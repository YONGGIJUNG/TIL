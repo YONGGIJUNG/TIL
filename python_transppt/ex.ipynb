{
 "cells": [
  {
   "cell_type": "code",
   "execution_count": 1,
   "metadata": {},
   "outputs": [
    {
     "name": "stdout",
     "output_type": "stream",
     "text": [
      "Kakao likes Papago.\n"
     ]
    }
   ],
   "source": [
    "from pypapago import Translator\n",
    "\n",
    "translator = Translator()\n",
    "\n",
    "result = translator.translate(\n",
    "    '카카오는 파파고를 좋아해',\n",
    "    source='ko',\n",
    "    target='en',\n",
    ")\n",
    "print(result) # Kakao likes papago."
   ]
  }
 ],
 "metadata": {
  "kernelspec": {
   "display_name": "Python 3",
   "language": "python",
   "name": "python3"
  },
  "language_info": {
   "codemirror_mode": {
    "name": "ipython",
    "version": 3
   },
   "file_extension": ".py",
   "mimetype": "text/x-python",
   "name": "python",
   "nbconvert_exporter": "python",
   "pygments_lexer": "ipython3",
   "version": "3.7.4"
  }
 },
 "nbformat": 4,
 "nbformat_minor": 2
}
