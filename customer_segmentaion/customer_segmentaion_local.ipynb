{
 "cells": [
  {
   "cell_type": "code",
   "execution_count": 53,
   "metadata": {
    "colab": {
     "base_uri": "https://localhost:8080/",
     "height": 36
    },
    "colab_type": "code",
    "id": "i8rn9n3650ot",
    "outputId": "f9b329b5-e8d3-44d9-f5b9-2a6a4499fbd6"
   },
   "outputs": [
    {
     "name": "stdout",
     "output_type": "stream",
     "text": [
      "Mounted at /content/drive/\n"
     ]
    }
   ],
   "source": [
    "# from google.colab import drive\n",
    "# drive.mount('/content/drive/')"
   ]
  },
  {
   "cell_type": "code",
   "execution_count": 44,
   "metadata": {
    "colab": {
     "base_uri": "https://localhost:8080/",
     "height": 36
    },
    "colab_type": "code",
    "id": "tuv2BdtQ9AoN",
    "outputId": "4afdbf18-799e-4455-f9a2-bcf36e57a85c"
   },
   "outputs": [
    {
     "name": "stdout",
     "output_type": "stream",
     "text": [
      "/content\n"
     ]
    }
   ],
   "source": [
    "# !pwd"
   ]
  },
  {
   "cell_type": "code",
   "execution_count": 54,
   "metadata": {
    "colab": {
     "base_uri": "https://localhost:8080/",
     "height": 36
    },
    "colab_type": "code",
    "id": "XIg9OsOT9Fg9",
    "outputId": "f1f48837-5683-4f79-b300-d22985fa7cbf"
   },
   "outputs": [
    {
     "name": "stdout",
     "output_type": "stream",
     "text": [
      "cust_seg_smpl_280122.csv\n"
     ]
    }
   ],
   "source": [
    "# !ls \"/content/drive/My Drive/Colab Notebooks/data\""
   ]
  },
  {
   "cell_type": "markdown",
   "metadata": {
    "colab_type": "text",
    "id": "jVe1mhFam_Sz"
   },
   "source": [
    "1. 데이터 분포 확인\n",
    "2. grid 방식 세분화 / cluster 방식 세분화\n",
    "3. 세분화된 집단 특성 확인(profiling)\n",
    "4. 선택된 고객집단(target)관리 및 대응 action 구상\n",
    "\n",
    "http://blog.daum.net/revisioncrm/436\n"
   ]
  },
  {
   "cell_type": "code",
   "execution_count": 1,
   "metadata": {
    "colab": {},
    "colab_type": "code",
    "id": "3QpsZI3UpELa"
   },
   "outputs": [],
   "source": [
    "import numpy as np\n",
    "import matplotlib.pyplot as plt\n",
    "import pandas as pd\n",
    "from numpy.polynomial.polynomial import polyfit\n",
    "\n",
    "# define random jitter\n",
    "def rjitt(arr):\n",
    "    stdev = .01*(max(arr)-min(arr))\n",
    "    return arr + np.random.randn(len(arr)) * stdev\n",
    "\n",
    "dataPath = 'E:/github/data/'\n",
    "# dataPath = \"/content/drive/\""
   ]
  },
  {
   "cell_type": "code",
   "execution_count": 58,
   "metadata": {
    "colab": {
     "base_uri": "https://localhost:8080/",
     "height": 258
    },
    "colab_type": "code",
    "id": "MAMIEwevAbMc",
    "outputId": "c99ccaf8-5086-4983-f5d8-23a8cda0e0b2"
   },
   "outputs": [
    {
     "name": "stdout",
     "output_type": "stream",
     "text": [
      "Index(['고객명', '성별', '연령', '지역', '구매일수', '최종구매후기간', '구매서적수', '서적구매액', '기타상품구매액',\n",
      "       '총구매액', '관심쟝르', '구매쟝르수', '가입기간', 'SMS수신여부'],\n",
      "      dtype='object')\n"
     ]
    },
    {
     "data": {
      "text/html": [
       "<div>\n",
       "<style scoped>\n",
       "    .dataframe tbody tr th:only-of-type {\n",
       "        vertical-align: middle;\n",
       "    }\n",
       "\n",
       "    .dataframe tbody tr th {\n",
       "        vertical-align: top;\n",
       "    }\n",
       "\n",
       "    .dataframe thead th {\n",
       "        text-align: right;\n",
       "    }\n",
       "</style>\n",
       "<table border=\"1\" class=\"dataframe\">\n",
       "  <thead>\n",
       "    <tr style=\"text-align: right;\">\n",
       "      <th></th>\n",
       "      <th>고객명</th>\n",
       "      <th>성별</th>\n",
       "      <th>연령</th>\n",
       "      <th>지역</th>\n",
       "      <th>구매일수</th>\n",
       "      <th>최종구매후기간</th>\n",
       "      <th>구매서적수</th>\n",
       "      <th>서적구매액</th>\n",
       "      <th>기타상품구매액</th>\n",
       "      <th>총구매액</th>\n",
       "      <th>관심쟝르</th>\n",
       "      <th>구매쟝르수</th>\n",
       "      <th>가입기간</th>\n",
       "      <th>SMS수신여부</th>\n",
       "    </tr>\n",
       "  </thead>\n",
       "  <tbody>\n",
       "    <tr>\n",
       "      <th>0</th>\n",
       "      <td>한지민</td>\n",
       "      <td>여</td>\n",
       "      <td>17</td>\n",
       "      <td>부산</td>\n",
       "      <td>5</td>\n",
       "      <td>2</td>\n",
       "      <td>8</td>\n",
       "      <td>96,000</td>\n",
       "      <td>38,400</td>\n",
       "      <td>134,400</td>\n",
       "      <td>소설</td>\n",
       "      <td>2</td>\n",
       "      <td>12</td>\n",
       "      <td>수신</td>\n",
       "    </tr>\n",
       "    <tr>\n",
       "      <th>1</th>\n",
       "      <td>장이성</td>\n",
       "      <td>남</td>\n",
       "      <td>19</td>\n",
       "      <td>서울</td>\n",
       "      <td>2</td>\n",
       "      <td>2</td>\n",
       "      <td>3</td>\n",
       "      <td>36,000</td>\n",
       "      <td>14,400</td>\n",
       "      <td>50,400</td>\n",
       "      <td>과학</td>\n",
       "      <td>1</td>\n",
       "      <td>24</td>\n",
       "      <td>수신</td>\n",
       "    </tr>\n",
       "    <tr>\n",
       "      <th>2</th>\n",
       "      <td>이수문</td>\n",
       "      <td>남</td>\n",
       "      <td>21</td>\n",
       "      <td>서울</td>\n",
       "      <td>20</td>\n",
       "      <td>1</td>\n",
       "      <td>22</td>\n",
       "      <td>286,000</td>\n",
       "      <td>214,500</td>\n",
       "      <td>500,500</td>\n",
       "      <td>소설</td>\n",
       "      <td>4</td>\n",
       "      <td>15</td>\n",
       "      <td>NaN</td>\n",
       "    </tr>\n",
       "    <tr>\n",
       "      <th>3</th>\n",
       "      <td>오진호</td>\n",
       "      <td>남</td>\n",
       "      <td>25</td>\n",
       "      <td>인천</td>\n",
       "      <td>4</td>\n",
       "      <td>3</td>\n",
       "      <td>5</td>\n",
       "      <td>60,000</td>\n",
       "      <td>24,000</td>\n",
       "      <td>84,000</td>\n",
       "      <td>시</td>\n",
       "      <td>1</td>\n",
       "      <td>16</td>\n",
       "      <td>수신</td>\n",
       "    </tr>\n",
       "    <tr>\n",
       "      <th>4</th>\n",
       "      <td>염시훈</td>\n",
       "      <td>남</td>\n",
       "      <td>26</td>\n",
       "      <td>서울</td>\n",
       "      <td>3</td>\n",
       "      <td>5</td>\n",
       "      <td>4</td>\n",
       "      <td>160,000</td>\n",
       "      <td>64,000</td>\n",
       "      <td>224,000</td>\n",
       "      <td>소설</td>\n",
       "      <td>3</td>\n",
       "      <td>9</td>\n",
       "      <td>수신</td>\n",
       "    </tr>\n",
       "  </tbody>\n",
       "</table>\n",
       "</div>"
      ],
      "text/plain": [
       "   고객명 성별  연령  지역  구매일수  최종구매후기간  ...  기타상품구매액     총구매액 관심쟝르 구매쟝르수 가입기간  SMS수신여부\n",
       "0  한지민  여  17  부산     5        2  ...   38,400  134,400   소설     2   12       수신\n",
       "1  장이성  남  19  서울     2        2  ...   14,400   50,400   과학     1   24       수신\n",
       "2  이수문  남  21  서울    20        1  ...  214,500  500,500   소설     4   15      NaN\n",
       "3  오진호  남  25  인천     4        3  ...   24,000   84,000    시     1   16       수신\n",
       "4  염시훈  남  26  서울     3        5  ...   64,000  224,000   소설     3    9       수신\n",
       "\n",
       "[5 rows x 14 columns]"
      ]
     },
     "execution_count": 58,
     "metadata": {
      "tags": []
     },
     "output_type": "execute_result"
    }
   ],
   "source": [
    "# # google colab\n",
    "# cs1 = pd.read_csv('/content/drive/My Drive/Colab Notebooks/data/cust_seg_smpl_280122.csv', encoding='CP949')\n",
    "# print(cs1.columns)\n",
    "# cs1.head()"
   ]
  },
  {
   "cell_type": "code",
   "execution_count": 2,
   "metadata": {
    "colab": {},
    "colab_type": "code",
    "id": "n48TwAUzm2tx"
   },
   "outputs": [
    {
     "name": "stdout",
     "output_type": "stream",
     "text": [
      "Index(['고객명', '성별', '연령', '지역', '구매일수', '최종구매후기간', '구매서적수', '서적구매액', '기타상품구매액',\n",
      "       '총구매액', '관심쟝르', '구매쟝르수', '가입기간', 'SMS수신여부'],\n",
      "      dtype='object')\n"
     ]
    },
    {
     "data": {
      "text/html": [
       "<div>\n",
       "<style scoped>\n",
       "    .dataframe tbody tr th:only-of-type {\n",
       "        vertical-align: middle;\n",
       "    }\n",
       "\n",
       "    .dataframe tbody tr th {\n",
       "        vertical-align: top;\n",
       "    }\n",
       "\n",
       "    .dataframe thead th {\n",
       "        text-align: right;\n",
       "    }\n",
       "</style>\n",
       "<table border=\"1\" class=\"dataframe\">\n",
       "  <thead>\n",
       "    <tr style=\"text-align: right;\">\n",
       "      <th></th>\n",
       "      <th>고객명</th>\n",
       "      <th>성별</th>\n",
       "      <th>연령</th>\n",
       "      <th>지역</th>\n",
       "      <th>구매일수</th>\n",
       "      <th>최종구매후기간</th>\n",
       "      <th>구매서적수</th>\n",
       "      <th>서적구매액</th>\n",
       "      <th>기타상품구매액</th>\n",
       "      <th>총구매액</th>\n",
       "      <th>관심쟝르</th>\n",
       "      <th>구매쟝르수</th>\n",
       "      <th>가입기간</th>\n",
       "      <th>SMS수신여부</th>\n",
       "    </tr>\n",
       "  </thead>\n",
       "  <tbody>\n",
       "    <tr>\n",
       "      <td>0</td>\n",
       "      <td>한지민</td>\n",
       "      <td>여</td>\n",
       "      <td>17</td>\n",
       "      <td>부산</td>\n",
       "      <td>5</td>\n",
       "      <td>2</td>\n",
       "      <td>8</td>\n",
       "      <td>96,000</td>\n",
       "      <td>38,400</td>\n",
       "      <td>134,400</td>\n",
       "      <td>소설</td>\n",
       "      <td>2</td>\n",
       "      <td>12</td>\n",
       "      <td>수신</td>\n",
       "    </tr>\n",
       "    <tr>\n",
       "      <td>1</td>\n",
       "      <td>장이성</td>\n",
       "      <td>남</td>\n",
       "      <td>19</td>\n",
       "      <td>서울</td>\n",
       "      <td>2</td>\n",
       "      <td>2</td>\n",
       "      <td>3</td>\n",
       "      <td>36,000</td>\n",
       "      <td>14,400</td>\n",
       "      <td>50,400</td>\n",
       "      <td>과학</td>\n",
       "      <td>1</td>\n",
       "      <td>24</td>\n",
       "      <td>수신</td>\n",
       "    </tr>\n",
       "    <tr>\n",
       "      <td>2</td>\n",
       "      <td>이수문</td>\n",
       "      <td>남</td>\n",
       "      <td>21</td>\n",
       "      <td>서울</td>\n",
       "      <td>20</td>\n",
       "      <td>1</td>\n",
       "      <td>22</td>\n",
       "      <td>286,000</td>\n",
       "      <td>214,500</td>\n",
       "      <td>500,500</td>\n",
       "      <td>소설</td>\n",
       "      <td>4</td>\n",
       "      <td>15</td>\n",
       "      <td>NaN</td>\n",
       "    </tr>\n",
       "    <tr>\n",
       "      <td>3</td>\n",
       "      <td>오진호</td>\n",
       "      <td>남</td>\n",
       "      <td>25</td>\n",
       "      <td>인천</td>\n",
       "      <td>4</td>\n",
       "      <td>3</td>\n",
       "      <td>5</td>\n",
       "      <td>60,000</td>\n",
       "      <td>24,000</td>\n",
       "      <td>84,000</td>\n",
       "      <td>시</td>\n",
       "      <td>1</td>\n",
       "      <td>16</td>\n",
       "      <td>수신</td>\n",
       "    </tr>\n",
       "    <tr>\n",
       "      <td>4</td>\n",
       "      <td>염시훈</td>\n",
       "      <td>남</td>\n",
       "      <td>26</td>\n",
       "      <td>서울</td>\n",
       "      <td>3</td>\n",
       "      <td>5</td>\n",
       "      <td>4</td>\n",
       "      <td>160,000</td>\n",
       "      <td>64,000</td>\n",
       "      <td>224,000</td>\n",
       "      <td>소설</td>\n",
       "      <td>3</td>\n",
       "      <td>9</td>\n",
       "      <td>수신</td>\n",
       "    </tr>\n",
       "  </tbody>\n",
       "</table>\n",
       "</div>"
      ],
      "text/plain": [
       "   고객명 성별  연령  지역  구매일수  최종구매후기간  구매서적수    서적구매액  기타상품구매액     총구매액 관심쟝르  \\\n",
       "0  한지민  여  17  부산     5        2      8   96,000   38,400  134,400   소설   \n",
       "1  장이성  남  19  서울     2        2      3   36,000   14,400   50,400   과학   \n",
       "2  이수문  남  21  서울    20        1     22  286,000  214,500  500,500   소설   \n",
       "3  오진호  남  25  인천     4        3      5   60,000   24,000   84,000    시   \n",
       "4  염시훈  남  26  서울     3        5      4  160,000   64,000  224,000   소설   \n",
       "\n",
       "   구매쟝르수  가입기간 SMS수신여부  \n",
       "0      2    12      수신  \n",
       "1      1    24      수신  \n",
       "2      4    15     NaN  \n",
       "3      1    16      수신  \n",
       "4      3     9      수신  "
      ]
     },
     "execution_count": 2,
     "metadata": {},
     "output_type": "execute_result"
    }
   ],
   "source": [
    "# local\n",
    "# loading sample data\n",
    "cs1 = pd.read_csv(dataPath + 'cust_seg_smpl_280122.csv', encoding='CP949')\n",
    "\n",
    "# 유니코드 디코드 에러, UnicodeDecodeError: 'utf-8' codec can't decode byte\n",
    "# 에러 발생을 피하기 위해encoding 옵션 지정\n",
    "\n",
    "print(cs1.columns)\n",
    "cs1.head()"
   ]
  },
  {
   "cell_type": "code",
   "execution_count": 4,
   "metadata": {
    "colab": {
     "base_uri": "https://localhost:8080/",
     "height": 222
    },
    "colab_type": "code",
    "id": "Oh4pHC7Vo-jI",
    "outputId": "3d3a39fb-e158-484c-f497-2cdd4fef754f"
   },
   "outputs": [
    {
     "data": {
      "text/html": [
       "<div>\n",
       "<style scoped>\n",
       "    .dataframe tbody tr th:only-of-type {\n",
       "        vertical-align: middle;\n",
       "    }\n",
       "\n",
       "    .dataframe tbody tr th {\n",
       "        vertical-align: top;\n",
       "    }\n",
       "\n",
       "    .dataframe thead th {\n",
       "        text-align: right;\n",
       "    }\n",
       "</style>\n",
       "<table border=\"1\" class=\"dataframe\">\n",
       "  <thead>\n",
       "    <tr style=\"text-align: right;\">\n",
       "      <th></th>\n",
       "      <th>cust_name</th>\n",
       "      <th>sex</th>\n",
       "      <th>age</th>\n",
       "      <th>location</th>\n",
       "      <th>days_purchase</th>\n",
       "      <th>recency</th>\n",
       "      <th>num_books</th>\n",
       "      <th>amt_books</th>\n",
       "      <th>amt_non_book</th>\n",
       "      <th>amt_total</th>\n",
       "      <th>interest_genre</th>\n",
       "      <th>num_genre</th>\n",
       "      <th>membership_period</th>\n",
       "      <th>sms_optin</th>\n",
       "    </tr>\n",
       "  </thead>\n",
       "  <tbody>\n",
       "    <tr>\n",
       "      <td>0</td>\n",
       "      <td>한지민</td>\n",
       "      <td>여</td>\n",
       "      <td>17</td>\n",
       "      <td>부산</td>\n",
       "      <td>5</td>\n",
       "      <td>2</td>\n",
       "      <td>8</td>\n",
       "      <td>96,000</td>\n",
       "      <td>38,400</td>\n",
       "      <td>134,400</td>\n",
       "      <td>소설</td>\n",
       "      <td>2</td>\n",
       "      <td>12</td>\n",
       "      <td>수신</td>\n",
       "    </tr>\n",
       "    <tr>\n",
       "      <td>1</td>\n",
       "      <td>장이성</td>\n",
       "      <td>남</td>\n",
       "      <td>19</td>\n",
       "      <td>서울</td>\n",
       "      <td>2</td>\n",
       "      <td>2</td>\n",
       "      <td>3</td>\n",
       "      <td>36,000</td>\n",
       "      <td>14,400</td>\n",
       "      <td>50,400</td>\n",
       "      <td>과학</td>\n",
       "      <td>1</td>\n",
       "      <td>24</td>\n",
       "      <td>수신</td>\n",
       "    </tr>\n",
       "    <tr>\n",
       "      <td>2</td>\n",
       "      <td>이수문</td>\n",
       "      <td>남</td>\n",
       "      <td>21</td>\n",
       "      <td>서울</td>\n",
       "      <td>20</td>\n",
       "      <td>1</td>\n",
       "      <td>22</td>\n",
       "      <td>286,000</td>\n",
       "      <td>214,500</td>\n",
       "      <td>500,500</td>\n",
       "      <td>소설</td>\n",
       "      <td>4</td>\n",
       "      <td>15</td>\n",
       "      <td>NaN</td>\n",
       "    </tr>\n",
       "    <tr>\n",
       "      <td>3</td>\n",
       "      <td>오진호</td>\n",
       "      <td>남</td>\n",
       "      <td>25</td>\n",
       "      <td>인천</td>\n",
       "      <td>4</td>\n",
       "      <td>3</td>\n",
       "      <td>5</td>\n",
       "      <td>60,000</td>\n",
       "      <td>24,000</td>\n",
       "      <td>84,000</td>\n",
       "      <td>시</td>\n",
       "      <td>1</td>\n",
       "      <td>16</td>\n",
       "      <td>수신</td>\n",
       "    </tr>\n",
       "    <tr>\n",
       "      <td>4</td>\n",
       "      <td>염시훈</td>\n",
       "      <td>남</td>\n",
       "      <td>26</td>\n",
       "      <td>서울</td>\n",
       "      <td>3</td>\n",
       "      <td>5</td>\n",
       "      <td>4</td>\n",
       "      <td>160,000</td>\n",
       "      <td>64,000</td>\n",
       "      <td>224,000</td>\n",
       "      <td>소설</td>\n",
       "      <td>3</td>\n",
       "      <td>9</td>\n",
       "      <td>수신</td>\n",
       "    </tr>\n",
       "  </tbody>\n",
       "</table>\n",
       "</div>"
      ],
      "text/plain": [
       "  cust_name sex  age location  days_purchase  recency  num_books amt_books  \\\n",
       "0       한지민   여   17       부산              5        2          8    96,000   \n",
       "1       장이성   남   19       서울              2        2          3    36,000   \n",
       "2       이수문   남   21       서울             20        1         22   286,000   \n",
       "3       오진호   남   25       인천              4        3          5    60,000   \n",
       "4       염시훈   남   26       서울              3        5          4   160,000   \n",
       "\n",
       "  amt_non_book amt_total interest_genre  num_genre  membership_period  \\\n",
       "0       38,400   134,400             소설          2                 12   \n",
       "1       14,400    50,400             과학          1                 24   \n",
       "2      214,500   500,500             소설          4                 15   \n",
       "3       24,000    84,000              시          1                 16   \n",
       "4       64,000   224,000             소설          3                  9   \n",
       "\n",
       "  sms_optin  \n",
       "0        수신  \n",
       "1        수신  \n",
       "2       NaN  \n",
       "3        수신  \n",
       "4        수신  "
      ]
     },
     "execution_count": 4,
     "metadata": {},
     "output_type": "execute_result"
    }
   ],
   "source": [
    "# 한글로된 컬럼명이 싫어서 -- 인코딩으로 발생될 수 있는 만의 하나의 문제를 회피\n",
    "cs1.columns = [\"cust_name\", \"sex\", \"age\", \"location\", \"days_purchase\",\n",
    "   \"recency\", \"num_books\", \"amt_books\", \"amt_non_book\",\n",
    "   \"amt_total\", \"interest_genre\", \"num_genre\",\n",
    "   \"membership_period\", \"sms_optin\"]\n",
    "cs1.head()"
   ]
  },
  {
   "cell_type": "code",
   "execution_count": 5,
   "metadata": {
    "colab": {
     "base_uri": "https://localhost:8080/",
     "height": 1000
    },
    "colab_type": "code",
    "id": "bJjIDG6inYhg",
    "outputId": "ba58f406-9ead-4683-b62e-40b402e12795"
   },
   "outputs": [
    {
     "data": {
      "image/png": "[encoded data removed]",
      "text/plain": [
       "<Figure size 432x288 with 1 Axes>"
      ]
     },
     "metadata": {
      "needs_background": "light"
     },
     "output_type": "display_data"
    },
    {
     "name": "stderr",
     "output_type": "stream",
     "text": [
      "E:\\Anaconda\\lib\\site-packages\\matplotlib\\backends\\backend_agg.py:211: RuntimeWarning: Glyph 52629 missing from current font.\n",
      "  font.set_text(s, 0.0, flags=flags)\n",
      "E:\\Anaconda\\lib\\site-packages\\matplotlib\\backends\\backend_agg.py:211: RuntimeWarning: Glyph 50640 missing from current font.\n",
      "  font.set_text(s, 0.0, flags=flags)\n",
      "E:\\Anaconda\\lib\\site-packages\\matplotlib\\backends\\backend_agg.py:211: RuntimeWarning: Glyph 54620 missing from current font.\n",
      "  font.set_text(s, 0.0, flags=flags)\n",
      "E:\\Anaconda\\lib\\site-packages\\matplotlib\\backends\\backend_agg.py:211: RuntimeWarning: Glyph 44544 missing from current font.\n",
      "  font.set_text(s, 0.0, flags=flags)\n",
      "E:\\Anaconda\\lib\\site-packages\\matplotlib\\backends\\backend_agg.py:211: RuntimeWarning: Glyph 47196 missing from current font.\n",
      "  font.set_text(s, 0.0, flags=flags)\n",
      "E:\\Anaconda\\lib\\site-packages\\matplotlib\\backends\\backend_agg.py:211: RuntimeWarning: Glyph 51060 missing from current font.\n",
      "  font.set_text(s, 0.0, flags=flags)\n",
      "E:\\Anaconda\\lib\\site-packages\\matplotlib\\backends\\backend_agg.py:211: RuntimeWarning: Glyph 47492 missing from current font.\n",
      "  font.set_text(s, 0.0, flags=flags)\n",
      "E:\\Anaconda\\lib\\site-packages\\matplotlib\\backends\\backend_agg.py:211: RuntimeWarning: Glyph 54364 missing from current font.\n",
      "  font.set_text(s, 0.0, flags=flags)\n",
      "E:\\Anaconda\\lib\\site-packages\\matplotlib\\backends\\backend_agg.py:211: RuntimeWarning: Glyph 49884 missing from current font.\n",
      "  font.set_text(s, 0.0, flags=flags)\n",
      "E:\\Anaconda\\lib\\site-packages\\matplotlib\\backends\\backend_agg.py:211: RuntimeWarning: Glyph 52572 missing from current font.\n",
      "  font.set_text(s, 0.0, flags=flags)\n",
      "E:\\Anaconda\\lib\\site-packages\\matplotlib\\backends\\backend_agg.py:211: RuntimeWarning: Glyph 44540 missing from current font.\n",
      "  font.set_text(s, 0.0, flags=flags)\n",
      "E:\\Anaconda\\lib\\site-packages\\matplotlib\\backends\\backend_agg.py:211: RuntimeWarning: Glyph 49457 missing from current font.\n",
      "  font.set_text(s, 0.0, flags=flags)\n",
      "E:\\Anaconda\\lib\\site-packages\\matplotlib\\backends\\backend_agg.py:211: RuntimeWarning: Glyph 50669 missing from current font.\n",
      "  font.set_text(s, 0.0, flags=flags)\n",
      "E:\\Anaconda\\lib\\site-packages\\matplotlib\\backends\\backend_agg.py:211: RuntimeWarning: Glyph 49692 missing from current font.\n",
      "  font.set_text(s, 0.0, flags=flags)\n",
      "E:\\Anaconda\\lib\\site-packages\\matplotlib\\backends\\backend_agg.py:180: RuntimeWarning: Glyph 52572 missing from current font.\n",
      "  font.set_text(s, 0, flags=flags)\n",
      "E:\\Anaconda\\lib\\site-packages\\matplotlib\\backends\\backend_agg.py:180: RuntimeWarning: Glyph 44540 missing from current font.\n",
      "  font.set_text(s, 0, flags=flags)\n",
      "E:\\Anaconda\\lib\\site-packages\\matplotlib\\backends\\backend_agg.py:180: RuntimeWarning: Glyph 49457 missing from current font.\n",
      "  font.set_text(s, 0, flags=flags)\n",
      "E:\\Anaconda\\lib\\site-packages\\matplotlib\\backends\\backend_agg.py:180: RuntimeWarning: Glyph 50669 missing from current font.\n",
      "  font.set_text(s, 0, flags=flags)\n",
      "E:\\Anaconda\\lib\\site-packages\\matplotlib\\backends\\backend_agg.py:180: RuntimeWarning: Glyph 49692 missing from current font.\n",
      "  font.set_text(s, 0, flags=flags)\n",
      "E:\\Anaconda\\lib\\site-packages\\matplotlib\\backends\\backend_agg.py:211: RuntimeWarning: Glyph 44396 missing from current font.\n",
      "  font.set_text(s, 0.0, flags=flags)\n",
      "E:\\Anaconda\\lib\\site-packages\\matplotlib\\backends\\backend_agg.py:211: RuntimeWarning: Glyph 47588 missing from current font.\n",
      "  font.set_text(s, 0.0, flags=flags)\n",
      "E:\\Anaconda\\lib\\site-packages\\matplotlib\\backends\\backend_agg.py:211: RuntimeWarning: Glyph 49436 missing from current font.\n",
      "  font.set_text(s, 0.0, flags=flags)\n",
      "E:\\Anaconda\\lib\\site-packages\\matplotlib\\backends\\backend_agg.py:211: RuntimeWarning: Glyph 51201 missing from current font.\n",
      "  font.set_text(s, 0.0, flags=flags)\n",
      "E:\\Anaconda\\lib\\site-packages\\matplotlib\\backends\\backend_agg.py:211: RuntimeWarning: Glyph 49688 missing from current font.\n",
      "  font.set_text(s, 0.0, flags=flags)\n",
      "E:\\Anaconda\\lib\\site-packages\\matplotlib\\backends\\backend_agg.py:180: RuntimeWarning: Glyph 44396 missing from current font.\n",
      "  font.set_text(s, 0, flags=flags)\n",
      "E:\\Anaconda\\lib\\site-packages\\matplotlib\\backends\\backend_agg.py:180: RuntimeWarning: Glyph 47588 missing from current font.\n",
      "  font.set_text(s, 0, flags=flags)\n",
      "E:\\Anaconda\\lib\\site-packages\\matplotlib\\backends\\backend_agg.py:180: RuntimeWarning: Glyph 49436 missing from current font.\n",
      "  font.set_text(s, 0, flags=flags)\n",
      "E:\\Anaconda\\lib\\site-packages\\matplotlib\\backends\\backend_agg.py:180: RuntimeWarning: Glyph 51201 missing from current font.\n",
      "  font.set_text(s, 0, flags=flags)\n",
      "E:\\Anaconda\\lib\\site-packages\\matplotlib\\backends\\backend_agg.py:180: RuntimeWarning: Glyph 49688 missing from current font.\n",
      "  font.set_text(s, 0, flags=flags)\n",
      "E:\\Anaconda\\lib\\site-packages\\matplotlib\\backends\\backend_agg.py:180: RuntimeWarning: Glyph 52629 missing from current font.\n",
      "  font.set_text(s, 0, flags=flags)\n",
      "E:\\Anaconda\\lib\\site-packages\\matplotlib\\backends\\backend_agg.py:180: RuntimeWarning: Glyph 50640 missing from current font.\n",
      "  font.set_text(s, 0, flags=flags)\n",
      "E:\\Anaconda\\lib\\site-packages\\matplotlib\\backends\\backend_agg.py:180: RuntimeWarning: Glyph 54620 missing from current font.\n",
      "  font.set_text(s, 0, flags=flags)\n",
      "E:\\Anaconda\\lib\\site-packages\\matplotlib\\backends\\backend_agg.py:180: RuntimeWarning: Glyph 44544 missing from current font.\n",
      "  font.set_text(s, 0, flags=flags)\n",
      "E:\\Anaconda\\lib\\site-packages\\matplotlib\\backends\\backend_agg.py:180: RuntimeWarning: Glyph 47196 missing from current font.\n",
      "  font.set_text(s, 0, flags=flags)\n",
      "E:\\Anaconda\\lib\\site-packages\\matplotlib\\backends\\backend_agg.py:180: RuntimeWarning: Glyph 51060 missing from current font.\n",
      "  font.set_text(s, 0, flags=flags)\n",
      "E:\\Anaconda\\lib\\site-packages\\matplotlib\\backends\\backend_agg.py:180: RuntimeWarning: Glyph 47492 missing from current font.\n",
      "  font.set_text(s, 0, flags=flags)\n",
      "E:\\Anaconda\\lib\\site-packages\\matplotlib\\backends\\backend_agg.py:180: RuntimeWarning: Glyph 54364 missing from current font.\n",
      "  font.set_text(s, 0, flags=flags)\n",
      "E:\\Anaconda\\lib\\site-packages\\matplotlib\\backends\\backend_agg.py:180: RuntimeWarning: Glyph 49884 missing from current font.\n",
      "  font.set_text(s, 0, flags=flags)\n"
     ]
    },
    {
     "data": {
      "image/png": "[encoded data removed]",
      "text/plain": [
       "<Figure size 432x288 with 1 Axes>"
      ]
     },
     "metadata": {
      "needs_background": "light"
     },
     "output_type": "display_data"
    }
   ],
   "source": [
    "# 최종구매후기간 recency와 구매한 서적의 수 사이의 관계 확인\n",
    "\n",
    "# 한글 폰트 표시 지정\n",
    "import matplotlib.font_manager as fm\n",
    "\n",
    "# 폰트 위치와 이름 지정\n",
    "# font_location = 'C:/Windows/Fonts/HYKANM.ttf'  \n",
    "# font_name = fm.FontProperties(fname = font_location).get_name()\n",
    "# # matplotlib 설정\n",
    "# plt.rc('font', family = font_name)\n",
    "\n",
    "plt.scatter(cs1['recency'], cs1['num_books'])\n",
    "plt.xlabel('recency')\n",
    "plt.ylabel('num_books')\n",
    "plt.show()\n",
    "\n",
    "plt.scatter(cs1['recency'], cs1['num_books'], s=40, alpha=0.5)\n",
    "plt.title('X, Y 축에 한글로 축 이름 표시')\n",
    "plt.xlabel('최근성 -- 역순')\n",
    "plt.ylabel('구매서적수')\n",
    "plt.show()"
   ]
  },
  {
   "cell_type": "code",
   "execution_count": 6,
   "metadata": {
    "colab": {
     "base_uri": "https://localhost:8080/",
     "height": 279
    },
    "colab_type": "code",
    "id": "98PRdF0Fx-hK",
    "outputId": "bb977c7f-12c3-4272-b4ef-35f4a9b1b203"
   },
   "outputs": [
    {
     "data": {
      "image/png": "[encoded data removed]",
      "text/plain": [
       "<Figure size 432x288 with 1 Axes>"
      ]
     },
     "metadata": {
      "needs_background": "light"
     },
     "output_type": "display_data"
    }
   ],
   "source": [
    "# 동일 좌표에 다수의 고객 존재 가능성이 있으므로 jitter 사용자 정의 함수를 활용\n",
    "\n",
    "plt.scatter(rjitt(cs1['recency']), rjitt(cs1['num_books']),\n",
    "           s=30, alpha=0.3)\n",
    "plt.xlabel('recency')\n",
    "plt.ylabel('num_books')\n",
    "plt.show()"
   ]
  },
  {
   "cell_type": "code",
   "execution_count": 7,
   "metadata": {
    "colab": {
     "base_uri": "https://localhost:8080/",
     "height": 279
    },
    "colab_type": "code",
    "id": "Yjc7WfBRx-kT",
    "outputId": "806c97c8-b1b2-4be2-8af5-2ed46a3e8ee3"
   },
   "outputs": [
    {
     "data": {
      "image/png": "[encoded data removed]",
      "text/plain": [
       "<Figure size 432x288 with 1 Axes>"
      ]
     },
     "metadata": {
      "needs_background": "light"
     },
     "output_type": "display_data"
    }
   ],
   "source": [
    "# add regression line\n",
    "# abline(lm(cs1$num_books~cs1$recency), col=\"blue\")\n",
    "\n",
    "from sklearn.preprocessing import PolynomialFeatures\n",
    "from sklearn.linear_model import LinearRegression\n",
    "from sklearn.pipeline import make_pipeline\n",
    "\n",
    "x = cs1['recency']\n",
    "y = cs1['num_books']\n",
    "# 회귀함수의 차수 지정: 차수가 1이면 단순 선형회귀분석\n",
    "nDegree = 1\n",
    "\n",
    "model = make_pipeline(PolynomialFeatures(nDegree), LinearRegression())\n",
    "model.fit(np.array(x).reshape(-1, 1), y)\n",
    "x_reg = np.arange(7)[1:]\n",
    "y_reg = model.predict(x_reg.reshape(-1, 1))\n",
    "\n",
    "plt.scatter(rjitt(cs1['recency']), rjitt(cs1['num_books']),\n",
    "           s=30, alpha=0.3)\n",
    "plt.xlabel('recency')\n",
    "plt.ylabel('num_books')\n",
    "\n",
    "plt.plot(x_reg, y_reg, color='orange', linestyle='--')\n",
    "plt.show()\n",
    "\n",
    "# 보조선인 회귀선을 본다면 최근성이 낮을수록, 즉 구매한지 오래되었을 수록\n",
    "# 구매한 서적의 수가 많음"
   ]
  },
  {
   "cell_type": "code",
   "execution_count": 8,
   "metadata": {
    "colab": {
     "base_uri": "https://localhost:8080/",
     "height": 279
    },
    "colab_type": "code",
    "id": "1UUjY-4Lx-nM",
    "outputId": "dbc7fa9c-575e-4d38-e1cf-7426dd4164a2"
   },
   "outputs": [
    {
     "data": {
      "image/png": "[encoded data removed]",
      "text/plain": [
       "<Figure size 432x288 with 1 Axes>"
      ]
     },
     "metadata": {
      "needs_background": "light"
     },
     "output_type": "display_data"
    }
   ],
   "source": [
    "# add regression line\n",
    "# abline(lm(cs1$num_books~cs1$recency), col=\"blue\")\n",
    "\n",
    "from sklearn.preprocessing import PolynomialFeatures\n",
    "from sklearn.linear_model import LinearRegression\n",
    "from sklearn.pipeline import make_pipeline\n",
    "\n",
    "x = cs1['recency']\n",
    "y = cs1['num_books']\n",
    "# 회귀함수의 차수 지정\n",
    "nDegree = 3\n",
    "\n",
    "model = make_pipeline(PolynomialFeatures(nDegree), LinearRegression())\n",
    "model.fit(np.array(x).reshape(-1, 1), y)\n",
    "x_reg = np.arange(7)[1:]\n",
    "y_reg = model.predict(x_reg.reshape(-1, 1))\n",
    "\n",
    "plt.scatter(rjitt(cs1['recency']), rjitt(cs1['num_books']),\n",
    "           s=30, alpha=0.3)\n",
    "plt.xlabel('recency')\n",
    "plt.ylabel('num_books')\n",
    "plt.axhline(0, color='grey')\n",
    "plt.plot(x_reg, y_reg, color='orange', linestyle='--')\n",
    "plt.show()\n",
    "\n",
    "# 구매서적의 수가 음수가 되는 것은 허용되지 않는 값임"
   ]
  },
  {
   "cell_type": "code",
   "execution_count": 10,
   "metadata": {
    "colab": {
     "base_uri": "https://localhost:8080/",
     "height": 425
    },
    "colab_type": "code",
    "id": "HdetmQKAx-qZ",
    "outputId": "937bd5a2-eddf-4338-fa84-a47308f35171"
   },
   "outputs": [
    {
     "ename": "ValueError",
     "evalue": "could not convert string to float: '96,000'",
     "output_type": "error",
     "traceback": [
      "\u001b[1;31m---------------------------------------------------------------------------\u001b[0m",
      "\u001b[1;31mValueError\u001b[0m                                Traceback (most recent call last)",
      "\u001b[1;32m<ipython-input-10-3a4b6a8ba749>\u001b[0m in \u001b[0;36m<module>\u001b[1;34m\u001b[0m\n\u001b[0;32m     12\u001b[0m \u001b[1;33m\u001b[0m\u001b[0m\n\u001b[0;32m     13\u001b[0m \u001b[0mmodel\u001b[0m \u001b[1;33m=\u001b[0m \u001b[0mmake_pipeline\u001b[0m\u001b[1;33m(\u001b[0m\u001b[0mPolynomialFeatures\u001b[0m\u001b[1;33m(\u001b[0m\u001b[0mnDegree\u001b[0m\u001b[1;33m)\u001b[0m\u001b[1;33m,\u001b[0m \u001b[0mLinearRegression\u001b[0m\u001b[1;33m(\u001b[0m\u001b[1;33m)\u001b[0m\u001b[1;33m)\u001b[0m\u001b[1;33m\u001b[0m\u001b[1;33m\u001b[0m\u001b[0m\n\u001b[1;32m---> 14\u001b[1;33m \u001b[0mmodel\u001b[0m\u001b[1;33m.\u001b[0m\u001b[0mfit\u001b[0m\u001b[1;33m(\u001b[0m\u001b[0mnp\u001b[0m\u001b[1;33m.\u001b[0m\u001b[0marray\u001b[0m\u001b[1;33m(\u001b[0m\u001b[0mx\u001b[0m\u001b[1;33m)\u001b[0m\u001b[1;33m.\u001b[0m\u001b[0mreshape\u001b[0m\u001b[1;33m(\u001b[0m\u001b[1;33m-\u001b[0m\u001b[1;36m1\u001b[0m\u001b[1;33m,\u001b[0m \u001b[1;36m1\u001b[0m\u001b[1;33m)\u001b[0m\u001b[1;33m,\u001b[0m \u001b[0my\u001b[0m\u001b[1;33m)\u001b[0m\u001b[1;33m\u001b[0m\u001b[1;33m\u001b[0m\u001b[0m\n\u001b[0m\u001b[0;32m     15\u001b[0m \u001b[0mx_reg\u001b[0m \u001b[1;33m=\u001b[0m \u001b[0mnp\u001b[0m\u001b[1;33m.\u001b[0m\u001b[0marange\u001b[0m\u001b[1;33m(\u001b[0m\u001b[1;36m25\u001b[0m\u001b[1;33m)\u001b[0m\u001b[1;33m[\u001b[0m\u001b[1;36m1\u001b[0m\u001b[1;33m:\u001b[0m\u001b[1;33m]\u001b[0m\u001b[1;33m\u001b[0m\u001b[1;33m\u001b[0m\u001b[0m\n\u001b[0;32m     16\u001b[0m \u001b[0my_reg\u001b[0m \u001b[1;33m=\u001b[0m \u001b[0mmodel\u001b[0m\u001b[1;33m.\u001b[0m\u001b[0mpredict\u001b[0m\u001b[1;33m(\u001b[0m\u001b[0mx_reg\u001b[0m\u001b[1;33m.\u001b[0m\u001b[0mreshape\u001b[0m\u001b[1;33m(\u001b[0m\u001b[1;33m-\u001b[0m\u001b[1;36m1\u001b[0m\u001b[1;33m,\u001b[0m \u001b[1;36m1\u001b[0m\u001b[1;33m)\u001b[0m\u001b[1;33m)\u001b[0m\u001b[1;33m\u001b[0m\u001b[1;33m\u001b[0m\u001b[0m\n",
      "\u001b[1;32mE:\\Anaconda\\lib\\site-packages\\sklearn\\pipeline.py\u001b[0m in \u001b[0;36mfit\u001b[1;34m(self, X, y, **fit_params)\u001b[0m\n\u001b[0;32m    354\u001b[0m                                  self._log_message(len(self.steps) - 1)):\n\u001b[0;32m    355\u001b[0m             \u001b[1;32mif\u001b[0m \u001b[0mself\u001b[0m\u001b[1;33m.\u001b[0m\u001b[0m_final_estimator\u001b[0m \u001b[1;33m!=\u001b[0m \u001b[1;34m'passthrough'\u001b[0m\u001b[1;33m:\u001b[0m\u001b[1;33m\u001b[0m\u001b[1;33m\u001b[0m\u001b[0m\n\u001b[1;32m--> 356\u001b[1;33m                 \u001b[0mself\u001b[0m\u001b[1;33m.\u001b[0m\u001b[0m_final_estimator\u001b[0m\u001b[1;33m.\u001b[0m\u001b[0mfit\u001b[0m\u001b[1;33m(\u001b[0m\u001b[0mXt\u001b[0m\u001b[1;33m,\u001b[0m \u001b[0my\u001b[0m\u001b[1;33m,\u001b[0m \u001b[1;33m**\u001b[0m\u001b[0mfit_params\u001b[0m\u001b[1;33m)\u001b[0m\u001b[1;33m\u001b[0m\u001b[1;33m\u001b[0m\u001b[0m\n\u001b[0m\u001b[0;32m    357\u001b[0m         \u001b[1;32mreturn\u001b[0m \u001b[0mself\u001b[0m\u001b[1;33m\u001b[0m\u001b[1;33m\u001b[0m\u001b[0m\n\u001b[0;32m    358\u001b[0m \u001b[1;33m\u001b[0m\u001b[0m\n",
      "\u001b[1;32mE:\\Anaconda\\lib\\site-packages\\sklearn\\linear_model\\base.py\u001b[0m in \u001b[0;36mfit\u001b[1;34m(self, X, y, sample_weight)\u001b[0m\n\u001b[0;32m    461\u001b[0m         \u001b[0mn_jobs_\u001b[0m \u001b[1;33m=\u001b[0m \u001b[0mself\u001b[0m\u001b[1;33m.\u001b[0m\u001b[0mn_jobs\u001b[0m\u001b[1;33m\u001b[0m\u001b[1;33m\u001b[0m\u001b[0m\n\u001b[0;32m    462\u001b[0m         X, y = check_X_y(X, y, accept_sparse=['csr', 'csc', 'coo'],\n\u001b[1;32m--> 463\u001b[1;33m                          y_numeric=True, multi_output=True)\n\u001b[0m\u001b[0;32m    464\u001b[0m \u001b[1;33m\u001b[0m\u001b[0m\n\u001b[0;32m    465\u001b[0m         \u001b[1;32mif\u001b[0m \u001b[0msample_weight\u001b[0m \u001b[1;32mis\u001b[0m \u001b[1;32mnot\u001b[0m \u001b[1;32mNone\u001b[0m \u001b[1;32mand\u001b[0m \u001b[0mnp\u001b[0m\u001b[1;33m.\u001b[0m\u001b[0matleast_1d\u001b[0m\u001b[1;33m(\u001b[0m\u001b[0msample_weight\u001b[0m\u001b[1;33m)\u001b[0m\u001b[1;33m.\u001b[0m\u001b[0mndim\u001b[0m \u001b[1;33m>\u001b[0m \u001b[1;36m1\u001b[0m\u001b[1;33m:\u001b[0m\u001b[1;33m\u001b[0m\u001b[1;33m\u001b[0m\u001b[0m\n",
      "\u001b[1;32mE:\\Anaconda\\lib\\site-packages\\sklearn\\utils\\validation.py\u001b[0m in \u001b[0;36mcheck_X_y\u001b[1;34m(X, y, accept_sparse, accept_large_sparse, dtype, order, copy, force_all_finite, ensure_2d, allow_nd, multi_output, ensure_min_samples, ensure_min_features, y_numeric, warn_on_dtype, estimator)\u001b[0m\n\u001b[0;32m    725\u001b[0m         \u001b[0m_assert_all_finite\u001b[0m\u001b[1;33m(\u001b[0m\u001b[0my\u001b[0m\u001b[1;33m)\u001b[0m\u001b[1;33m\u001b[0m\u001b[1;33m\u001b[0m\u001b[0m\n\u001b[0;32m    726\u001b[0m     \u001b[1;32mif\u001b[0m \u001b[0my_numeric\u001b[0m \u001b[1;32mand\u001b[0m \u001b[0my\u001b[0m\u001b[1;33m.\u001b[0m\u001b[0mdtype\u001b[0m\u001b[1;33m.\u001b[0m\u001b[0mkind\u001b[0m \u001b[1;33m==\u001b[0m \u001b[1;34m'O'\u001b[0m\u001b[1;33m:\u001b[0m\u001b[1;33m\u001b[0m\u001b[1;33m\u001b[0m\u001b[0m\n\u001b[1;32m--> 727\u001b[1;33m         \u001b[0my\u001b[0m \u001b[1;33m=\u001b[0m \u001b[0my\u001b[0m\u001b[1;33m.\u001b[0m\u001b[0mastype\u001b[0m\u001b[1;33m(\u001b[0m\u001b[0mnp\u001b[0m\u001b[1;33m.\u001b[0m\u001b[0mfloat64\u001b[0m\u001b[1;33m)\u001b[0m\u001b[1;33m\u001b[0m\u001b[1;33m\u001b[0m\u001b[0m\n\u001b[0m\u001b[0;32m    728\u001b[0m \u001b[1;33m\u001b[0m\u001b[0m\n\u001b[0;32m    729\u001b[0m     \u001b[0mcheck_consistent_length\u001b[0m\u001b[1;33m(\u001b[0m\u001b[0mX\u001b[0m\u001b[1;33m,\u001b[0m \u001b[0my\u001b[0m\u001b[1;33m)\u001b[0m\u001b[1;33m\u001b[0m\u001b[1;33m\u001b[0m\u001b[0m\n",
      "\u001b[1;31mValueError\u001b[0m: could not convert string to float: '96,000'"
     ]
    }
   ],
   "source": [
    "# add regression line\n",
    "# abline(lm(cs1$num_books~cs1$recency), col=\"blue\")\n",
    "\n",
    "from sklearn.preprocessing import PolynomialFeatures\n",
    "from sklearn.linear_model import LinearRegression\n",
    "from sklearn.pipeline import make_pipeline\n",
    "\n",
    "x = cs1['num_books']\n",
    "y = cs1['amt_books']\n",
    "# 회귀함수의 차수 지정: 차수가 1이면 단순 선형회귀분석\n",
    "nDegree = 1\n",
    "\n",
    "model = make_pipeline(PolynomialFeatures(nDegree), LinearRegression())\n",
    "model.fit(np.array(x).reshape(-1, 1), y)\n",
    "x_reg = np.arange(25)[1:]\n",
    "y_reg = model.predict(x_reg.reshape(-1, 1))\n",
    "\n",
    "plt.scatter(rjitt(cs1['num_books']), rjitt(cs1['amt_books']),\n",
    "           s=30, alpha=0.3)\n",
    "plt.xlabel('num_books')\n",
    "plt.ylabel('amt_books')\n",
    "\n",
    "plt.plot(x_reg, y_reg, color='orange', linestyle='--')\n",
    "plt.show()\n",
    "\n",
    "# 보조선인 회귀선을 본다면 최근성이 낮을수록, 즉 구매한지 오래되었을 수록\n",
    "# 구매한 서적의 수가 많음"
   ]
  },
  {
   "cell_type": "code",
   "execution_count": 11,
   "metadata": {
    "colab": {},
    "colab_type": "code",
    "id": "cLRtwEvlx-tW"
   },
   "outputs": [
    {
     "ename": "ValueError",
     "evalue": "could not convert string to float: '96,000'",
     "output_type": "error",
     "traceback": [
      "\u001b[1;31m---------------------------------------------------------------------------\u001b[0m",
      "\u001b[1;31mValueError\u001b[0m                                Traceback (most recent call last)",
      "\u001b[1;32m<ipython-input-11-fd3d2dbaf722>\u001b[0m in \u001b[0;36m<module>\u001b[1;34m\u001b[0m\n\u001b[0;32m     12\u001b[0m \u001b[1;33m\u001b[0m\u001b[0m\n\u001b[0;32m     13\u001b[0m \u001b[0mmodel\u001b[0m \u001b[1;33m=\u001b[0m \u001b[0mmake_pipeline\u001b[0m\u001b[1;33m(\u001b[0m\u001b[0mPolynomialFeatures\u001b[0m\u001b[1;33m(\u001b[0m\u001b[0mnDegree\u001b[0m\u001b[1;33m)\u001b[0m\u001b[1;33m,\u001b[0m \u001b[0mLinearRegression\u001b[0m\u001b[1;33m(\u001b[0m\u001b[1;33m)\u001b[0m\u001b[1;33m)\u001b[0m\u001b[1;33m\u001b[0m\u001b[1;33m\u001b[0m\u001b[0m\n\u001b[1;32m---> 14\u001b[1;33m \u001b[0mmodel\u001b[0m\u001b[1;33m.\u001b[0m\u001b[0mfit\u001b[0m\u001b[1;33m(\u001b[0m\u001b[0mnp\u001b[0m\u001b[1;33m.\u001b[0m\u001b[0marray\u001b[0m\u001b[1;33m(\u001b[0m\u001b[0mx\u001b[0m\u001b[1;33m)\u001b[0m\u001b[1;33m.\u001b[0m\u001b[0mreshape\u001b[0m\u001b[1;33m(\u001b[0m\u001b[1;33m-\u001b[0m\u001b[1;36m1\u001b[0m\u001b[1;33m,\u001b[0m \u001b[1;36m1\u001b[0m\u001b[1;33m)\u001b[0m\u001b[1;33m,\u001b[0m \u001b[0my\u001b[0m\u001b[1;33m)\u001b[0m\u001b[1;33m\u001b[0m\u001b[1;33m\u001b[0m\u001b[0m\n\u001b[0m\u001b[0;32m     15\u001b[0m \u001b[0mx_reg\u001b[0m \u001b[1;33m=\u001b[0m \u001b[0mnp\u001b[0m\u001b[1;33m.\u001b[0m\u001b[0marange\u001b[0m\u001b[1;33m(\u001b[0m\u001b[1;36m25\u001b[0m\u001b[1;33m)\u001b[0m\u001b[1;33m[\u001b[0m\u001b[1;36m1\u001b[0m\u001b[1;33m:\u001b[0m\u001b[1;33m]\u001b[0m\u001b[1;33m\u001b[0m\u001b[1;33m\u001b[0m\u001b[0m\n\u001b[0;32m     16\u001b[0m \u001b[0my_reg\u001b[0m \u001b[1;33m=\u001b[0m \u001b[0mmodel\u001b[0m\u001b[1;33m.\u001b[0m\u001b[0mpredict\u001b[0m\u001b[1;33m(\u001b[0m\u001b[0mx_reg\u001b[0m\u001b[1;33m.\u001b[0m\u001b[0mreshape\u001b[0m\u001b[1;33m(\u001b[0m\u001b[1;33m-\u001b[0m\u001b[1;36m1\u001b[0m\u001b[1;33m,\u001b[0m \u001b[1;36m1\u001b[0m\u001b[1;33m)\u001b[0m\u001b[1;33m)\u001b[0m\u001b[1;33m\u001b[0m\u001b[1;33m\u001b[0m\u001b[0m\n",
      "\u001b[1;32mE:\\Anaconda\\lib\\site-packages\\sklearn\\pipeline.py\u001b[0m in \u001b[0;36mfit\u001b[1;34m(self, X, y, **fit_params)\u001b[0m\n\u001b[0;32m    354\u001b[0m                                  self._log_message(len(self.steps) - 1)):\n\u001b[0;32m    355\u001b[0m             \u001b[1;32mif\u001b[0m \u001b[0mself\u001b[0m\u001b[1;33m.\u001b[0m\u001b[0m_final_estimator\u001b[0m \u001b[1;33m!=\u001b[0m \u001b[1;34m'passthrough'\u001b[0m\u001b[1;33m:\u001b[0m\u001b[1;33m\u001b[0m\u001b[1;33m\u001b[0m\u001b[0m\n\u001b[1;32m--> 356\u001b[1;33m                 \u001b[0mself\u001b[0m\u001b[1;33m.\u001b[0m\u001b[0m_final_estimator\u001b[0m\u001b[1;33m.\u001b[0m\u001b[0mfit\u001b[0m\u001b[1;33m(\u001b[0m\u001b[0mXt\u001b[0m\u001b[1;33m,\u001b[0m \u001b[0my\u001b[0m\u001b[1;33m,\u001b[0m \u001b[1;33m**\u001b[0m\u001b[0mfit_params\u001b[0m\u001b[1;33m)\u001b[0m\u001b[1;33m\u001b[0m\u001b[1;33m\u001b[0m\u001b[0m\n\u001b[0m\u001b[0;32m    357\u001b[0m         \u001b[1;32mreturn\u001b[0m \u001b[0mself\u001b[0m\u001b[1;33m\u001b[0m\u001b[1;33m\u001b[0m\u001b[0m\n\u001b[0;32m    358\u001b[0m \u001b[1;33m\u001b[0m\u001b[0m\n",
      "\u001b[1;32mE:\\Anaconda\\lib\\site-packages\\sklearn\\linear_model\\base.py\u001b[0m in \u001b[0;36mfit\u001b[1;34m(self, X, y, sample_weight)\u001b[0m\n\u001b[0;32m    461\u001b[0m         \u001b[0mn_jobs_\u001b[0m \u001b[1;33m=\u001b[0m \u001b[0mself\u001b[0m\u001b[1;33m.\u001b[0m\u001b[0mn_jobs\u001b[0m\u001b[1;33m\u001b[0m\u001b[1;33m\u001b[0m\u001b[0m\n\u001b[0;32m    462\u001b[0m         X, y = check_X_y(X, y, accept_sparse=['csr', 'csc', 'coo'],\n\u001b[1;32m--> 463\u001b[1;33m                          y_numeric=True, multi_output=True)\n\u001b[0m\u001b[0;32m    464\u001b[0m \u001b[1;33m\u001b[0m\u001b[0m\n\u001b[0;32m    465\u001b[0m         \u001b[1;32mif\u001b[0m \u001b[0msample_weight\u001b[0m \u001b[1;32mis\u001b[0m \u001b[1;32mnot\u001b[0m \u001b[1;32mNone\u001b[0m \u001b[1;32mand\u001b[0m \u001b[0mnp\u001b[0m\u001b[1;33m.\u001b[0m\u001b[0matleast_1d\u001b[0m\u001b[1;33m(\u001b[0m\u001b[0msample_weight\u001b[0m\u001b[1;33m)\u001b[0m\u001b[1;33m.\u001b[0m\u001b[0mndim\u001b[0m \u001b[1;33m>\u001b[0m \u001b[1;36m1\u001b[0m\u001b[1;33m:\u001b[0m\u001b[1;33m\u001b[0m\u001b[1;33m\u001b[0m\u001b[0m\n",
      "\u001b[1;32mE:\\Anaconda\\lib\\site-packages\\sklearn\\utils\\validation.py\u001b[0m in \u001b[0;36mcheck_X_y\u001b[1;34m(X, y, accept_sparse, accept_large_sparse, dtype, order, copy, force_all_finite, ensure_2d, allow_nd, multi_output, ensure_min_samples, ensure_min_features, y_numeric, warn_on_dtype, estimator)\u001b[0m\n\u001b[0;32m    725\u001b[0m         \u001b[0m_assert_all_finite\u001b[0m\u001b[1;33m(\u001b[0m\u001b[0my\u001b[0m\u001b[1;33m)\u001b[0m\u001b[1;33m\u001b[0m\u001b[1;33m\u001b[0m\u001b[0m\n\u001b[0;32m    726\u001b[0m     \u001b[1;32mif\u001b[0m \u001b[0my_numeric\u001b[0m \u001b[1;32mand\u001b[0m \u001b[0my\u001b[0m\u001b[1;33m.\u001b[0m\u001b[0mdtype\u001b[0m\u001b[1;33m.\u001b[0m\u001b[0mkind\u001b[0m \u001b[1;33m==\u001b[0m \u001b[1;34m'O'\u001b[0m\u001b[1;33m:\u001b[0m\u001b[1;33m\u001b[0m\u001b[1;33m\u001b[0m\u001b[0m\n\u001b[1;32m--> 727\u001b[1;33m         \u001b[0my\u001b[0m \u001b[1;33m=\u001b[0m \u001b[0my\u001b[0m\u001b[1;33m.\u001b[0m\u001b[0mastype\u001b[0m\u001b[1;33m(\u001b[0m\u001b[0mnp\u001b[0m\u001b[1;33m.\u001b[0m\u001b[0mfloat64\u001b[0m\u001b[1;33m)\u001b[0m\u001b[1;33m\u001b[0m\u001b[1;33m\u001b[0m\u001b[0m\n\u001b[0m\u001b[0;32m    728\u001b[0m \u001b[1;33m\u001b[0m\u001b[0m\n\u001b[0;32m    729\u001b[0m     \u001b[0mcheck_consistent_length\u001b[0m\u001b[1;33m(\u001b[0m\u001b[0mX\u001b[0m\u001b[1;33m,\u001b[0m \u001b[0my\u001b[0m\u001b[1;33m)\u001b[0m\u001b[1;33m\u001b[0m\u001b[1;33m\u001b[0m\u001b[0m\n",
      "\u001b[1;31mValueError\u001b[0m: could not convert string to float: '96,000'"
     ]
    }
   ],
   "source": [
    "# add regression line\n",
    "# abline(lm(cs1$num_books~cs1$recency), col=\"blue\")\n",
    "\n",
    "from sklearn.preprocessing import PolynomialFeatures\n",
    "from sklearn.linear_model import LinearRegression\n",
    "from sklearn.pipeline import make_pipeline\n",
    "\n",
    "x = cs1['num_books']\n",
    "y = cs1['amt_books']\n",
    "# 회귀함수의 차수 지정: 차수가 1이면 단순 선형회귀분석\n",
    "nDegree = 3\n",
    "\n",
    "model = make_pipeline(PolynomialFeatures(nDegree), LinearRegression())\n",
    "model.fit(np.array(x).reshape(-1, 1), y)\n",
    "x_reg = np.arange(25)[1:]\n",
    "y_reg = model.predict(x_reg.reshape(-1, 1))\n",
    "\n",
    "plt.scatter(rjitt(cs1['num_books']), rjitt(cs1['amt_books']),\n",
    "           s=30, alpha=0.3)\n",
    "plt.xlabel('num_books')\n",
    "plt.ylabel('amt_books')\n",
    "\n",
    "plt.plot(x_reg, y_reg, color='orange', linestyle='--')\n",
    "plt.show()\n",
    "\n",
    "# 보조선인 회귀선을 본다면 최근성이 낮을수록, 즉 구매한지 오래되었을 수록\n",
    "# 구매한 서적의 수가 많음. 단, 구매수량이 증가한다고 \n",
    "# 금액이 무한정 증가하는지는 확실하지 않음"
   ]
  },
  {
   "cell_type": "code",
   "execution_count": 12,
   "metadata": {
    "colab": {},
    "colab_type": "code",
    "id": "w-YppblmyzhN"
   },
   "outputs": [
    {
     "ename": "TypeError",
     "evalue": "unsupported operand type(s) for /: 'str' and 'int'",
     "output_type": "error",
     "traceback": [
      "\u001b[1;31m---------------------------------------------------------------------------\u001b[0m",
      "\u001b[1;31mTypeError\u001b[0m                                 Traceback (most recent call last)",
      "\u001b[1;32mE:\\Anaconda\\lib\\site-packages\\pandas\\core\\ops\\__init__.py\u001b[0m in \u001b[0;36mna_op\u001b[1;34m(x, y)\u001b[0m\n\u001b[0;32m    967\u001b[0m         \u001b[1;32mtry\u001b[0m\u001b[1;33m:\u001b[0m\u001b[1;33m\u001b[0m\u001b[1;33m\u001b[0m\u001b[0m\n\u001b[1;32m--> 968\u001b[1;33m             \u001b[0mresult\u001b[0m \u001b[1;33m=\u001b[0m \u001b[0mexpressions\u001b[0m\u001b[1;33m.\u001b[0m\u001b[0mevaluate\u001b[0m\u001b[1;33m(\u001b[0m\u001b[0mop\u001b[0m\u001b[1;33m,\u001b[0m \u001b[0mstr_rep\u001b[0m\u001b[1;33m,\u001b[0m \u001b[0mx\u001b[0m\u001b[1;33m,\u001b[0m \u001b[0my\u001b[0m\u001b[1;33m,\u001b[0m \u001b[1;33m**\u001b[0m\u001b[0meval_kwargs\u001b[0m\u001b[1;33m)\u001b[0m\u001b[1;33m\u001b[0m\u001b[1;33m\u001b[0m\u001b[0m\n\u001b[0m\u001b[0;32m    969\u001b[0m         \u001b[1;32mexcept\u001b[0m \u001b[0mTypeError\u001b[0m\u001b[1;33m:\u001b[0m\u001b[1;33m\u001b[0m\u001b[1;33m\u001b[0m\u001b[0m\n",
      "\u001b[1;32mE:\\Anaconda\\lib\\site-packages\\pandas\\core\\computation\\expressions.py\u001b[0m in \u001b[0;36mevaluate\u001b[1;34m(op, op_str, a, b, use_numexpr, **eval_kwargs)\u001b[0m\n\u001b[0;32m    220\u001b[0m     \u001b[1;32mif\u001b[0m \u001b[0muse_numexpr\u001b[0m\u001b[1;33m:\u001b[0m\u001b[1;33m\u001b[0m\u001b[1;33m\u001b[0m\u001b[0m\n\u001b[1;32m--> 221\u001b[1;33m         \u001b[1;32mreturn\u001b[0m \u001b[0m_evaluate\u001b[0m\u001b[1;33m(\u001b[0m\u001b[0mop\u001b[0m\u001b[1;33m,\u001b[0m \u001b[0mop_str\u001b[0m\u001b[1;33m,\u001b[0m \u001b[0ma\u001b[0m\u001b[1;33m,\u001b[0m \u001b[0mb\u001b[0m\u001b[1;33m,\u001b[0m \u001b[1;33m**\u001b[0m\u001b[0meval_kwargs\u001b[0m\u001b[1;33m)\u001b[0m\u001b[1;33m\u001b[0m\u001b[1;33m\u001b[0m\u001b[0m\n\u001b[0m\u001b[0;32m    222\u001b[0m     \u001b[1;32mreturn\u001b[0m \u001b[0m_evaluate_standard\u001b[0m\u001b[1;33m(\u001b[0m\u001b[0mop\u001b[0m\u001b[1;33m,\u001b[0m \u001b[0mop_str\u001b[0m\u001b[1;33m,\u001b[0m \u001b[0ma\u001b[0m\u001b[1;33m,\u001b[0m \u001b[0mb\u001b[0m\u001b[1;33m)\u001b[0m\u001b[1;33m\u001b[0m\u001b[1;33m\u001b[0m\u001b[0m\n",
      "\u001b[1;32mE:\\Anaconda\\lib\\site-packages\\pandas\\core\\computation\\expressions.py\u001b[0m in \u001b[0;36m_evaluate_numexpr\u001b[1;34m(op, op_str, a, b, truediv, reversed, **eval_kwargs)\u001b[0m\n\u001b[0;32m    126\u001b[0m     \u001b[1;32mif\u001b[0m \u001b[0mresult\u001b[0m \u001b[1;32mis\u001b[0m \u001b[1;32mNone\u001b[0m\u001b[1;33m:\u001b[0m\u001b[1;33m\u001b[0m\u001b[1;33m\u001b[0m\u001b[0m\n\u001b[1;32m--> 127\u001b[1;33m         \u001b[0mresult\u001b[0m \u001b[1;33m=\u001b[0m \u001b[0m_evaluate_standard\u001b[0m\u001b[1;33m(\u001b[0m\u001b[0mop\u001b[0m\u001b[1;33m,\u001b[0m \u001b[0mop_str\u001b[0m\u001b[1;33m,\u001b[0m \u001b[0ma\u001b[0m\u001b[1;33m,\u001b[0m \u001b[0mb\u001b[0m\u001b[1;33m)\u001b[0m\u001b[1;33m\u001b[0m\u001b[1;33m\u001b[0m\u001b[0m\n\u001b[0m\u001b[0;32m    128\u001b[0m \u001b[1;33m\u001b[0m\u001b[0m\n",
      "\u001b[1;32mE:\\Anaconda\\lib\\site-packages\\pandas\\core\\computation\\expressions.py\u001b[0m in \u001b[0;36m_evaluate_standard\u001b[1;34m(op, op_str, a, b, **eval_kwargs)\u001b[0m\n\u001b[0;32m     69\u001b[0m     \u001b[1;32mwith\u001b[0m \u001b[0mnp\u001b[0m\u001b[1;33m.\u001b[0m\u001b[0merrstate\u001b[0m\u001b[1;33m(\u001b[0m\u001b[0mall\u001b[0m\u001b[1;33m=\u001b[0m\u001b[1;34m\"ignore\"\u001b[0m\u001b[1;33m)\u001b[0m\u001b[1;33m:\u001b[0m\u001b[1;33m\u001b[0m\u001b[1;33m\u001b[0m\u001b[0m\n\u001b[1;32m---> 70\u001b[1;33m         \u001b[1;32mreturn\u001b[0m \u001b[0mop\u001b[0m\u001b[1;33m(\u001b[0m\u001b[0ma\u001b[0m\u001b[1;33m,\u001b[0m \u001b[0mb\u001b[0m\u001b[1;33m)\u001b[0m\u001b[1;33m\u001b[0m\u001b[1;33m\u001b[0m\u001b[0m\n\u001b[0m\u001b[0;32m     71\u001b[0m \u001b[1;33m\u001b[0m\u001b[0m\n",
      "\u001b[1;31mTypeError\u001b[0m: unsupported operand type(s) for /: 'str' and 'int'",
      "\nDuring handling of the above exception, another exception occurred:\n",
      "\u001b[1;31mTypeError\u001b[0m                                 Traceback (most recent call last)",
      "\u001b[1;32m<ipython-input-12-a253c748bfb7>\u001b[0m in \u001b[0;36m<module>\u001b[1;34m\u001b[0m\n\u001b[0;32m      1\u001b[0m \u001b[1;31m# 주로 비싼 책을 샀는지를 파악하기 위해 평균금액을 계산\u001b[0m\u001b[1;33m\u001b[0m\u001b[1;33m\u001b[0m\u001b[1;33m\u001b[0m\u001b[0m\n\u001b[0;32m      2\u001b[0m \u001b[1;33m\u001b[0m\u001b[0m\n\u001b[1;32m----> 3\u001b[1;33m \u001b[0mcs1\u001b[0m\u001b[1;33m[\u001b[0m\u001b[1;34m'unitprice_book'\u001b[0m\u001b[1;33m]\u001b[0m \u001b[1;33m=\u001b[0m \u001b[0mcs1\u001b[0m\u001b[1;33m[\u001b[0m\u001b[1;34m'amt_books'\u001b[0m\u001b[1;33m]\u001b[0m \u001b[1;33m/\u001b[0m \u001b[0mcs1\u001b[0m\u001b[1;33m[\u001b[0m\u001b[1;34m'num_books'\u001b[0m\u001b[1;33m]\u001b[0m\u001b[1;33m\u001b[0m\u001b[1;33m\u001b[0m\u001b[0m\n\u001b[0m\u001b[0;32m      4\u001b[0m \u001b[1;33m\u001b[0m\u001b[0m\n\u001b[0;32m      5\u001b[0m \u001b[1;33m\u001b[0m\u001b[0m\n",
      "\u001b[1;32mE:\\Anaconda\\lib\\site-packages\\pandas\\core\\ops\\__init__.py\u001b[0m in \u001b[0;36mwrapper\u001b[1;34m(left, right)\u001b[0m\n\u001b[0;32m   1046\u001b[0m \u001b[1;33m\u001b[0m\u001b[0m\n\u001b[0;32m   1047\u001b[0m         \u001b[1;32mwith\u001b[0m \u001b[0mnp\u001b[0m\u001b[1;33m.\u001b[0m\u001b[0merrstate\u001b[0m\u001b[1;33m(\u001b[0m\u001b[0mall\u001b[0m\u001b[1;33m=\u001b[0m\u001b[1;34m\"ignore\"\u001b[0m\u001b[1;33m)\u001b[0m\u001b[1;33m:\u001b[0m\u001b[1;33m\u001b[0m\u001b[1;33m\u001b[0m\u001b[0m\n\u001b[1;32m-> 1048\u001b[1;33m             \u001b[0mresult\u001b[0m \u001b[1;33m=\u001b[0m \u001b[0mna_op\u001b[0m\u001b[1;33m(\u001b[0m\u001b[0mlvalues\u001b[0m\u001b[1;33m,\u001b[0m \u001b[0mrvalues\u001b[0m\u001b[1;33m)\u001b[0m\u001b[1;33m\u001b[0m\u001b[1;33m\u001b[0m\u001b[0m\n\u001b[0m\u001b[0;32m   1049\u001b[0m         return construct_result(\n\u001b[0;32m   1050\u001b[0m             \u001b[0mleft\u001b[0m\u001b[1;33m,\u001b[0m \u001b[0mresult\u001b[0m\u001b[1;33m,\u001b[0m \u001b[0mindex\u001b[0m\u001b[1;33m=\u001b[0m\u001b[0mleft\u001b[0m\u001b[1;33m.\u001b[0m\u001b[0mindex\u001b[0m\u001b[1;33m,\u001b[0m \u001b[0mname\u001b[0m\u001b[1;33m=\u001b[0m\u001b[0mres_name\u001b[0m\u001b[1;33m,\u001b[0m \u001b[0mdtype\u001b[0m\u001b[1;33m=\u001b[0m\u001b[1;32mNone\u001b[0m\u001b[1;33m\u001b[0m\u001b[1;33m\u001b[0m\u001b[0m\n",
      "\u001b[1;32mE:\\Anaconda\\lib\\site-packages\\pandas\\core\\ops\\__init__.py\u001b[0m in \u001b[0;36mna_op\u001b[1;34m(x, y)\u001b[0m\n\u001b[0;32m    968\u001b[0m             \u001b[0mresult\u001b[0m \u001b[1;33m=\u001b[0m \u001b[0mexpressions\u001b[0m\u001b[1;33m.\u001b[0m\u001b[0mevaluate\u001b[0m\u001b[1;33m(\u001b[0m\u001b[0mop\u001b[0m\u001b[1;33m,\u001b[0m \u001b[0mstr_rep\u001b[0m\u001b[1;33m,\u001b[0m \u001b[0mx\u001b[0m\u001b[1;33m,\u001b[0m \u001b[0my\u001b[0m\u001b[1;33m,\u001b[0m \u001b[1;33m**\u001b[0m\u001b[0meval_kwargs\u001b[0m\u001b[1;33m)\u001b[0m\u001b[1;33m\u001b[0m\u001b[1;33m\u001b[0m\u001b[0m\n\u001b[0;32m    969\u001b[0m         \u001b[1;32mexcept\u001b[0m \u001b[0mTypeError\u001b[0m\u001b[1;33m:\u001b[0m\u001b[1;33m\u001b[0m\u001b[1;33m\u001b[0m\u001b[0m\n\u001b[1;32m--> 970\u001b[1;33m             \u001b[0mresult\u001b[0m \u001b[1;33m=\u001b[0m \u001b[0mmasked_arith_op\u001b[0m\u001b[1;33m(\u001b[0m\u001b[0mx\u001b[0m\u001b[1;33m,\u001b[0m \u001b[0my\u001b[0m\u001b[1;33m,\u001b[0m \u001b[0mop\u001b[0m\u001b[1;33m)\u001b[0m\u001b[1;33m\u001b[0m\u001b[1;33m\u001b[0m\u001b[0m\n\u001b[0m\u001b[0;32m    971\u001b[0m \u001b[1;33m\u001b[0m\u001b[0m\n\u001b[0;32m    972\u001b[0m         \u001b[1;32mreturn\u001b[0m \u001b[0mmissing\u001b[0m\u001b[1;33m.\u001b[0m\u001b[0mdispatch_fill_zeros\u001b[0m\u001b[1;33m(\u001b[0m\u001b[0mop\u001b[0m\u001b[1;33m,\u001b[0m \u001b[0mx\u001b[0m\u001b[1;33m,\u001b[0m \u001b[0my\u001b[0m\u001b[1;33m,\u001b[0m \u001b[0mresult\u001b[0m\u001b[1;33m)\u001b[0m\u001b[1;33m\u001b[0m\u001b[1;33m\u001b[0m\u001b[0m\n",
      "\u001b[1;32mE:\\Anaconda\\lib\\site-packages\\pandas\\core\\ops\\__init__.py\u001b[0m in \u001b[0;36mmasked_arith_op\u001b[1;34m(x, y, op)\u001b[0m\n\u001b[0;32m    445\u001b[0m         \u001b[1;32mif\u001b[0m \u001b[0mmask\u001b[0m\u001b[1;33m.\u001b[0m\u001b[0many\u001b[0m\u001b[1;33m(\u001b[0m\u001b[1;33m)\u001b[0m\u001b[1;33m:\u001b[0m\u001b[1;33m\u001b[0m\u001b[1;33m\u001b[0m\u001b[0m\n\u001b[0;32m    446\u001b[0m             \u001b[1;32mwith\u001b[0m \u001b[0mnp\u001b[0m\u001b[1;33m.\u001b[0m\u001b[0merrstate\u001b[0m\u001b[1;33m(\u001b[0m\u001b[0mall\u001b[0m\u001b[1;33m=\u001b[0m\u001b[1;34m\"ignore\"\u001b[0m\u001b[1;33m)\u001b[0m\u001b[1;33m:\u001b[0m\u001b[1;33m\u001b[0m\u001b[1;33m\u001b[0m\u001b[0m\n\u001b[1;32m--> 447\u001b[1;33m                 \u001b[0mresult\u001b[0m\u001b[1;33m[\u001b[0m\u001b[0mmask\u001b[0m\u001b[1;33m]\u001b[0m \u001b[1;33m=\u001b[0m \u001b[0mop\u001b[0m\u001b[1;33m(\u001b[0m\u001b[0mxrav\u001b[0m\u001b[1;33m[\u001b[0m\u001b[0mmask\u001b[0m\u001b[1;33m]\u001b[0m\u001b[1;33m,\u001b[0m \u001b[0mcom\u001b[0m\u001b[1;33m.\u001b[0m\u001b[0mvalues_from_object\u001b[0m\u001b[1;33m(\u001b[0m\u001b[0myrav\u001b[0m\u001b[1;33m[\u001b[0m\u001b[0mmask\u001b[0m\u001b[1;33m]\u001b[0m\u001b[1;33m)\u001b[0m\u001b[1;33m)\u001b[0m\u001b[1;33m\u001b[0m\u001b[1;33m\u001b[0m\u001b[0m\n\u001b[0m\u001b[0;32m    448\u001b[0m \u001b[1;33m\u001b[0m\u001b[0m\n\u001b[0;32m    449\u001b[0m     \u001b[1;32melse\u001b[0m\u001b[1;33m:\u001b[0m\u001b[1;33m\u001b[0m\u001b[1;33m\u001b[0m\u001b[0m\n",
      "\u001b[1;31mTypeError\u001b[0m: unsupported operand type(s) for /: 'str' and 'int'"
     ]
    }
   ],
   "source": [
    "# 주로 비싼 책을 샀는지를 파악하기 위해 평균금액을 계산\n",
    "\n",
    "cs1['unitprice_book'] = cs1['amt_books'] / cs1['num_books']\n",
    "\n",
    "\n",
    "x = cs1['num_books']\n",
    "y = cs1['unitprice_book']\n",
    "# 회귀함수의 차수 지정: 차수가 1이면 단순 선형회귀분석\n",
    "nDegree = 3\n",
    "\n",
    "model = make_pipeline(PolynomialFeatures(nDegree), LinearRegression())\n",
    "model.fit(np.array(x).reshape(-1, 1), y)\n",
    "x_reg = np.arange(25)[1:]\n",
    "y_reg = model.predict(x_reg.reshape(-1, 1))\n",
    "\n",
    "plt.scatter(rjitt(cs1['num_books']), rjitt(cs1['unitprice_book']),\n",
    "           s=30, alpha=0.3)\n",
    "plt.xlabel('num_books')\n",
    "plt.ylabel('unitprice_book')\n",
    "\n",
    "plt.plot(x_reg, y_reg, color='orange', linestyle='--')\n",
    "plt.show()\n",
    "\n",
    "# 구매수량이 일정 지점을 지나서는 평균단가가 조금 줄어드는 경향 나타남"
   ]
  },
  {
   "cell_type": "code",
   "execution_count": 0,
   "metadata": {
    "colab": {},
    "colab_type": "code",
    "id": "ih54yXcpy3j-"
   },
   "outputs": [],
   "source": [
    "colors1 = ['red' if x=='여' else 'blue' for x in cs1['sex']]\n",
    "# 주로 비싼 책을 샀는지를 파악하기 위해 평균금액을 계산\n",
    "\n",
    "cs1['unitprice_book'] = cs1['amt_books'] / cs1['num_books']\n",
    "\n",
    "\n",
    "x = cs1['num_books']\n",
    "y = cs1['unitprice_book']\n",
    "# 회귀함수의 차수 지정: 차수가 1이면 단순 선형회귀분석\n",
    "nDegree = 3\n",
    "\n",
    "model = make_pipeline(PolynomialFeatures(nDegree), LinearRegression())\n",
    "model.fit(np.array(x).reshape(-1, 1), y)\n",
    "x_reg = np.arange(25)[1:]\n",
    "y_reg = model.predict(x_reg.reshape(-1, 1))\n",
    "\n",
    "plt.scatter(rjitt(cs1['num_books']), rjitt(cs1['unitprice_book']),\n",
    "           s=30, alpha=0.3, color=colors1)\n",
    "plt.xlabel('num_books')\n",
    "plt.ylabel('unitprice_book')\n",
    "# 0에서 부터 출발하도록 Y축의 구간을 변경\n",
    "# 변동이 크게 보이는 착시를 완화\n",
    "# 표시할 값 중 최대의 105% 까지로 자동 설정 \n",
    "plt.ylim(0,cs1['unitprice_book'].max()*1.05)\n",
    "plt.plot(x_reg, y_reg, color='orange', linestyle='--')\n",
    "plt.show()\n",
    "\n",
    "# 구매수량이 일정 지점을 지나서는 평균단가가 조금 줄어드는 경향 나타남\n",
    "# 여성의 경우 구매금액이 매우 큰 경우가 없었음"
   ]
  },
  {
   "cell_type": "code",
   "execution_count": 0,
   "metadata": {
    "colab": {},
    "colab_type": "code",
    "id": "Iz1GjWtty7E2"
   },
   "outputs": [],
   "source": [
    "colors1 = ['red' if x=='여' else 'blue' for x in cs1['sex']]\n",
    "# 주로 비싼 책을 샀는지를 파악하기 위해 평균금액을 계산\n",
    "\n",
    "cs1['unitprice_book'] = cs1['amt_books'] / cs1['num_books']\n",
    "\n",
    "\n",
    "x = cs1['num_books']\n",
    "y = cs1['unitprice_book']\n",
    "# 회귀함수의 차수 지정: 차수가 1이면 단순 선형회귀분석\n",
    "nDegree = 3\n",
    "\n",
    "model = make_pipeline(PolynomialFeatures(nDegree), LinearRegression())\n",
    "model.fit(np.array(x).reshape(-1, 1), y)\n",
    "x_reg = np.arange(25)[1:]\n",
    "y_reg = model.predict(x_reg.reshape(-1, 1))\n",
    "\n",
    "plt.scatter(rjitt(cs1['num_books']), rjitt(cs1['unitprice_book']),\n",
    "            s=100*cs1['amt_non_book']/cs1['amt_non_book'].max(), \n",
    "            alpha=0.3, color=colors1)\n",
    "plt.xlabel('num_books')\n",
    "plt.ylabel('unitprice_book')\n",
    "\n",
    "plt.plot(x_reg, y_reg, color='orange', linestyle='--')\n",
    "plt.text(12,35000, '* Size: volume index of amt_none_book')\n",
    "# text 함수를 사용해서 주석 달아주기\n",
    "plt.axhline(cs1['unitprice_book'].median(), color='darkgrey')\n",
    "plt.show()\n",
    "\n",
    "# 구매수량이 일정 지점을 지나서는 평균단가가 조금 줄어드는 경향 나타남\n",
    "# 여성의 경우 구매금액이 매우 큰 경우가 없었음"
   ]
  },
  {
   "cell_type": "code",
   "execution_count": 0,
   "metadata": {
    "colab": {},
    "colab_type": "code",
    "id": "6NhIYaUiy-yR"
   },
   "outputs": [],
   "source": [
    "colors1 = ['red' if x=='여' else 'blue' for x in cs1['sex']]\n",
    "# 주로 비싼 책을 샀는지를 파악하기 위해 평균금액을 계산\n",
    "\n",
    "x = cs1['amt_books']\n",
    "y = cs1['amt_non_book']\n",
    "# 회귀함수의 차수 지정: 차수가 1이면 단순 선형회귀분석\n",
    "nDegree = 3\n",
    "\n",
    "model = make_pipeline(PolynomialFeatures(nDegree), LinearRegression())\n",
    "model.fit(np.array(x).reshape(-1, 1), y)\n",
    "x_reg = np.arange(25)[1:]\n",
    "y_reg = model.predict(x_reg.reshape(-1, 1))\n",
    "\n",
    "plt.scatter(rjitt(cs1['amt_books']), rjitt(cs1['amt_non_book']),\n",
    "            alpha=0.3, color=colors1)\n",
    "plt.xlabel('amt_books')\n",
    "plt.ylabel('amt_non_book')\n",
    "\n",
    "plt.plot(x_reg, y_reg, color='orange', linestyle='--')\n",
    "plt.text(250000,15000, 'cross-sell target')\n",
    "# text 함수를 사용해서 주석 달아주기\n",
    "plt.axvline(cs1['amt_books'].quantile(0.7), color='darkgrey', linestyle='--')\n",
    "plt.axhline(cs1['amt_non_book'].quantile(0.8), color='darkgrey', linestyle='--')\n",
    "plt.show()\n",
    "\n",
    "# 책을 많이 사는 편인데 책쪽만 집중된 경우를 기타 상품군에 대한\n",
    "# 교차판매용 대상으로\n",
    "# == 서적 구매는 많으나 기타 상품 구매가 약한 집단을 선정해\n",
    "# 집중적 cross-selling 노력 기울이는 방안?"
   ]
  },
  {
   "cell_type": "code",
   "execution_count": 0,
   "metadata": {
    "colab": {},
    "colab_type": "code",
    "id": "ibBMI1FZzCKq"
   },
   "outputs": [],
   "source": [
    "# 성별 인원수 확인\n",
    "cs1['sex'].value_counts().reset_index()"
   ]
  },
  {
   "cell_type": "code",
   "execution_count": 0,
   "metadata": {
    "colab": {},
    "colab_type": "code",
    "id": "OVEVqT7LzKF2"
   },
   "outputs": [],
   "source": [
    "# 성별 인원수 확인 -- 건수 대신 구성비 산출\n",
    "# 참고 :: https://towardsdatascience.com/10-python-pandas-tricks-that-make-your-work-more-efficient-2e8e483808ba \n",
    "\n",
    "# reset_index() 명령으로 pandas dataframe으로 변환\n",
    "# sort_values()로 정렬\n",
    "cs1['sex'].value_counts(normalize=True).reset_index().sort_values(by='sex', ascending=False)"
   ]
  },
  {
   "cell_type": "code",
   "execution_count": 0,
   "metadata": {
    "colab": {},
    "colab_type": "code",
    "id": "a3b6YGbJzLRy"
   },
   "outputs": [],
   "source": [
    "# 시각적으로 설정했던 기준선 (=교차판매 대상 집단 조건) 영역에 해당하는 고객리스트 추출\n",
    "\n",
    "tgtgridseg = cs1[(cs1['amt_books'] > cs1['amt_books'].quantile(0.7)) & \n",
    "                 (cs1['amt_non_book'] < cs1['amt_non_book'].quantile(0.8)) ]\n",
    "\n",
    "print('number of cross-sell target customers : ', len(tgtgridseg),'\\n')\n",
    "\n",
    "print(\"size of target = \", 100* len(tgtgridseg)/ cs1.shape[0], \" % of customer base\")"
   ]
  },
  {
   "cell_type": "code",
   "execution_count": 0,
   "metadata": {
    "colab": {},
    "colab_type": "code",
    "id": "CWbLyX6Tx-wW"
   },
   "outputs": [],
   "source": [
    "# 선정된 집단의 프로파일 시각적으로 확인\n",
    "\n",
    "# 서적 구매수량과 성별 분포 확인 (여성은 pink)\n",
    "\n",
    "colors2 = ['pink' if x=='여' else'lightblue' for x in tgtgridseg['sex']]\n",
    "plt.bar(tgtgridseg['cust_name'], tgtgridseg['num_books'], \n",
    "        color=colors2)\n",
    "plt.ylabel(\"num_books\")\n",
    "\n",
    "# 전체고객의 평균/중위수 서적구매수량과 비교\n",
    "\n",
    "plt.axhline(cs1['num_books'].mean(), linestyle='--')\n",
    "# font in grey color\n",
    "plt.text(1,cs1['num_books'].mean()+1, 'mean of the entire cust base', color='grey')\n",
    "plt.axhline(cs1['num_books'].median(), linestyle='--')\n",
    "plt.text(1,cs1['num_books'].median()+1, 'median of the entire cust base')\n",
    "plt.title('profile of cross-sell target segment')\n",
    "plt.show()\n",
    "\n",
    "# 전체 집단에 비해서는 서적 구매수량이 많은 집단\n",
    "# 전체 집단에 비해서는 여성 비율이 조금은 더 높은 집단 (i.e. 0.33 > 0.3)    \n",
    "\n",
    "# 기타 상품 중 여성 선호 상품을 찾아 제안하는 방식으로 cross-sell\n",
    "# 테스트 캠페인 시도 가능할 것"
   ]
  },
  {
   "cell_type": "code",
   "execution_count": 0,
   "metadata": {
    "colab": {},
    "colab_type": "code",
    "id": "cxIe5JEfx-zV"
   },
   "outputs": [],
   "source": [
    "# 군집분석을 활용한 고객세분화\n",
    "\n",
    "# 수치형식의 중요 변수를 클러스터링에 사용하기 위해 지정 \n",
    "vars4clst = [ \"days_purchase\", \"recency\", \"num_books\",\n",
    "             \"amt_books\", \"amt_non_book\", \"amt_total\", \"num_genre\", \"membership_period\" ] \n",
    "\n",
    "cs2 = cs1[vars4clst]\n",
    "\n",
    "# 선정된 변수들의 데이터 타입 확인\n",
    "print(cs2.dtypes)\n",
    "\n",
    "cs2.head()"
   ]
  },
  {
   "cell_type": "code",
   "execution_count": 0,
   "metadata": {
    "colab": {},
    "colab_type": "code",
    "id": "i0ZavsVXx-2K"
   },
   "outputs": [],
   "source": [
    "from sklearn.cluster import KMeans  \n",
    "\n",
    "# df 자체를 할당하는 대신 복제를 생성\n",
    "df4kmm = cs2.copy()\n",
    "\n",
    "# 타입변경은 사실 unnecessary 이미 수치형이라\n",
    "X = np.array(df4kmm.astype(int))\n",
    "\n",
    "# create k-means model\n",
    "kmm1 = KMeans(n_clusters=3, random_state=111)  \n",
    "# set seed using random_state option\n",
    "kmm1.fit(X)  \n",
    "\n",
    "# kmeans.cluster_centers_  \n",
    "\n",
    "# 군집별 고객수 분포 확인\n",
    "clst_label, clst_cust_counts = np.unique(kmm1.labels_, return_counts=True)\n",
    "\n",
    "# 고객집단을 표시할 색상을 임의로 지정\n",
    "# 번호순의 색상 이름 벡터 생성\n",
    "colors3 = ['brown','khaki','silver']\n",
    "\n",
    "plt.bar(clst_label, clst_cust_counts, color=colors3) \n",
    "plt.title('number of cutomer by cluster')\n",
    "plt.show()\n",
    "\n",
    "# 테이블 형태로 화면 출력하기 위해 임시 테이블 생성\n",
    "pd.DataFrame({'clst': clst_label, 'cust_count': clst_cust_counts})"
   ]
  },
  {
   "cell_type": "code",
   "execution_count": 0,
   "metadata": {
    "colab": {},
    "colab_type": "code",
    "id": "Qv1Ne8Xmzilt"
   },
   "outputs": [],
   "source": [
    "# 각 고객의 소속 집단이 어디인가에 따라 색상 표시\n",
    "colors4 = [colors3[x] for x in  kmm1.labels_] \n",
    "\n",
    "plt.scatter(rjitt(cs1['days_purchase']), rjitt(cs1['num_genre']),\n",
    "   color = colors4, s=50, alpha=0.4)\n",
    "\n",
    "# subtitle 다는 기능이 직접적으로는 없음. 따라서 우회적 방법 활용\n",
    "plt.suptitle(\"Cust Segment Profile: Frequency X Book Genre Diversity\")\n",
    "# title 대신 suptitle을 title 용도로 활용하고\n",
    "subtitle_text = 'Clusters : ' + str(colors3)\n",
    "# subtitle 용도로 title을 활용하면서 폰트를 작게\n",
    "plt.title(subtitle_text, fontsize=9, color='darkgrey')\n",
    "plt.xlabel('Frequency')\n",
    "plt.ylabel('Book Genre Diversity')\n",
    "plt.show()"
   ]
  },
  {
   "cell_type": "code",
   "execution_count": 0,
   "metadata": {
    "colab": {},
    "colab_type": "code",
    "id": "mfKzvszdzk-4"
   },
   "outputs": [],
   "source": [
    "# 군집 프로파일링 - 약식의 일괄 처리\n",
    "cs3 = cs2.copy()\n",
    "cs3['clst'] = kmm1.labels_\n",
    "cs3.groupby('clst').mean().reset_index().sort_values('amt_total', ascending=False).round(1)"
   ]
  },
  {
   "cell_type": "code",
   "execution_count": 0,
   "metadata": {
    "colab": {},
    "colab_type": "code",
    "id": "4vN8c5C8zpa-"
   },
   "outputs": [],
   "source": [
    "# Next :: 추가적인 세분집단 프로파일링?\n",
    "\n",
    "# Next :: 분석결과를 바탕으로 어떤 정교한 CRM Action을?"
   ]
  },
  {
   "cell_type": "code",
   "execution_count": 0,
   "metadata": {
    "colab": {},
    "colab_type": "code",
    "id": "feZhdhSzx-5P"
   },
   "outputs": [],
   "source": []
  },
  {
   "cell_type": "code",
   "execution_count": 0,
   "metadata": {
    "colab": {},
    "colab_type": "code",
    "id": "5KGLKzCEx-8c"
   },
   "outputs": [],
   "source": []
  },
  {
   "cell_type": "code",
   "execution_count": 0,
   "metadata": {
    "colab": {},
    "colab_type": "code",
    "id": "IPo9ehjfx-_a"
   },
   "outputs": [],
   "source": []
  },
  {
   "cell_type": "code",
   "execution_count": 0,
   "metadata": {
    "colab": {},
    "colab_type": "code",
    "id": "vgKhgEYVx_Cl"
   },
   "outputs": [],
   "source": []
  },
  {
   "cell_type": "code",
   "execution_count": 0,
   "metadata": {
    "colab": {},
    "colab_type": "code",
    "id": "W_MWkgDtx_GE"
   },
   "outputs": [],
   "source": []
  },
  {
   "cell_type": "code",
   "execution_count": 0,
   "metadata": {
    "colab": {},
    "colab_type": "code",
    "id": "avqeFkLYx_Ja"
   },
   "outputs": [],
   "source": []
  }
 ],
 "metadata": {
  "colab": {
   "collapsed_sections": [],
   "name": "customer_segmentaion.ipynb",
   "provenance": []
  },
  "kernelspec": {
   "display_name": "Python 3",
   "language": "python",
   "name": "python3"
  },
  "language_info": {
   "codemirror_mode": {
    "name": "ipython",
    "version": 3
   },
   "file_extension": ".py",
   "mimetype": "text/x-python",
   "name": "python",
   "nbconvert_exporter": "python",
   "pygments_lexer": "ipython3",
   "version": "3.7.4"
  }
 },
 "nbformat": 4,
 "nbformat_minor": 1
}
