{
 "cells": [
  {
   "cell_type": "code",
   "execution_count": 12,
   "metadata": {},
   "outputs": [
    {
     "name": "stdout",
     "output_type": "stream",
     "text": [
      "index 1 , value 0\n",
      "index 3 , value 1\n",
      "index 6 , value 2\n",
      "index 8 , value 3\n",
      "index 10 , value 4\n"
     ]
    }
   ],
   "source": [
    "a = [1, 3, 6, 8, 10]\n",
    "\n",
    "i = 0 # index\n",
    "\n",
    "while i < len(a):\n",
    "    print('index', a[i],', value', i)\n",
    "    i += 1\n",
    "# print('end')   "
   ]
  },
  {
   "cell_type": "code",
   "execution_count": 15,
   "metadata": {},
   "outputs": [
    {
     "name": "stdout",
     "output_type": "stream",
     "text": [
      "index 6 , value 2\n",
      "index 8 , value 3\n",
      "index 10 , value 4\n"
     ]
    }
   ],
   "source": [
    "a = [1, 3, 6, 8, 10]\n",
    "\n",
    "i = 0 # index\n",
    "\n",
    "while i < len(a):\n",
    "    if a[i] > 5:\n",
    "        print('index', a[i],', value', i)\n",
    "    i += 1 # 무한루프 중단 조건\n",
    "# print('end')   "
   ]
  },
  {
   "cell_type": "code",
   "execution_count": 17,
   "metadata": {},
   "outputs": [
    {
     "name": "stdout",
     "output_type": "stream",
     "text": [
      "aaaa\n",
      "break\n"
     ]
    }
   ],
   "source": [
    "while True:\n",
    "    print('aaaa')\n",
    "    break\n",
    "print('break')"
   ]
  },
  {
   "cell_type": "code",
   "execution_count": 18,
   "metadata": {},
   "outputs": [
    {
     "name": "stdout",
     "output_type": "stream",
     "text": [
      "6\n",
      "4\n",
      "3\n",
      "2\n",
      "1\n",
      "0\n"
     ]
    }
   ],
   "source": [
    "a = 7\n",
    "while a > 0:\n",
    "    a -=1\n",
    "    if a == 5:\n",
    "        continue # 만나면 다시 while로 감. 건너뛸때 사용\n",
    "    print(a)"
   ]
  },
  {
   "cell_type": "markdown",
   "metadata": {},
   "source": [
    "### 1~100까지 더하기"
   ]
  },
  {
   "cell_type": "code",
   "execution_count": 24,
   "metadata": {},
   "outputs": [
    {
     "name": "stdout",
     "output_type": "stream",
     "text": [
      "2 1\n",
      "3 3\n",
      "4 6\n",
      "5 10\n",
      "6 15\n",
      "7 21\n",
      "8 28\n",
      "9 36\n",
      "10 45\n",
      "11 55\n",
      "12 66\n",
      "13 78\n",
      "14 91\n",
      "15 105\n",
      "16 120\n",
      "17 136\n",
      "18 153\n",
      "19 171\n",
      "20 190\n",
      "21 210\n",
      "22 231\n",
      "23 253\n",
      "24 276\n",
      "25 300\n",
      "26 325\n",
      "27 351\n",
      "28 378\n",
      "29 406\n",
      "30 435\n",
      "31 465\n",
      "32 496\n",
      "33 528\n",
      "34 561\n",
      "35 595\n",
      "36 630\n",
      "37 666\n",
      "38 703\n",
      "39 741\n",
      "40 780\n",
      "41 820\n",
      "42 861\n",
      "43 903\n",
      "44 946\n",
      "45 990\n",
      "46 1035\n",
      "47 1081\n",
      "48 1128\n",
      "49 1176\n",
      "50 1225\n",
      "51 1275\n",
      "52 1326\n",
      "53 1378\n",
      "54 1431\n",
      "55 1485\n",
      "56 1540\n",
      "57 1596\n",
      "58 1653\n",
      "59 1711\n",
      "60 1770\n",
      "61 1830\n",
      "62 1891\n",
      "63 1953\n",
      "64 2016\n",
      "65 2080\n",
      "66 2145\n",
      "67 2211\n",
      "68 2278\n",
      "69 2346\n",
      "70 2415\n",
      "71 2485\n",
      "72 2556\n",
      "73 2628\n",
      "74 2701\n",
      "75 2775\n",
      "76 2850\n",
      "77 2926\n",
      "78 3003\n",
      "79 3081\n",
      "80 3160\n",
      "81 3240\n",
      "82 3321\n",
      "83 3403\n",
      "84 3486\n",
      "85 3570\n",
      "86 3655\n",
      "87 3741\n",
      "88 3828\n",
      "89 3916\n",
      "90 4005\n",
      "91 4095\n",
      "92 4186\n",
      "93 4278\n",
      "94 4371\n",
      "95 4465\n",
      "96 4560\n",
      "97 4656\n",
      "98 4753\n",
      "99 4851\n",
      "100 4950\n",
      "101 5050\n"
     ]
    }
   ],
   "source": [
    "i = 1\n",
    "sum = 0\n",
    "\n",
    "while i <= 100:\n",
    "    sum = sum + i\n",
    "    i += 1\n",
    "    print(i,sum)"
   ]
  },
  {
   "cell_type": "code",
   "execution_count": 31,
   "metadata": {},
   "outputs": [
    {
     "name": "stdout",
     "output_type": "stream",
     "text": [
      "1\n",
      "3\n",
      "5\n",
      "7\n"
     ]
    }
   ],
   "source": [
    "a = [1,3,5,7]\n",
    "for i in a:\n",
    "    print(i)"
   ]
  },
  {
   "cell_type": "code",
   "execution_count": 32,
   "metadata": {},
   "outputs": [],
   "source": [
    "dic = {'1':'khj','2':'jyw'}"
   ]
  },
  {
   "cell_type": "code",
   "execution_count": 33,
   "metadata": {},
   "outputs": [
    {
     "name": "stdout",
     "output_type": "stream",
     "text": [
      "1 khj\n",
      "2 jyw\n"
     ]
    }
   ],
   "source": [
    "for key , value in dic.items(): # items : key, value\n",
    "    print(key,value)"
   ]
  },
  {
   "cell_type": "code",
   "execution_count": 34,
   "metadata": {},
   "outputs": [
    {
     "name": "stdout",
     "output_type": "stream",
     "text": [
      "0 1\n",
      "1 3\n",
      "2 5\n",
      "3 7\n"
     ]
    }
   ],
   "source": [
    "for i, value in enumerate(a): # enumerate : index, value\n",
    "    print(i,value)"
   ]
  },
  {
   "cell_type": "code",
   "execution_count": 48,
   "metadata": {},
   "outputs": [
    {
     "data": {
      "text/plain": [
       "range(0, 9)"
      ]
     },
     "execution_count": 48,
     "metadata": {},
     "output_type": "execute_result"
    }
   ],
   "source": [
    "range(9)"
   ]
  },
  {
   "cell_type": "markdown",
   "metadata": {},
   "source": [
    "### 구구단"
   ]
  },
  {
   "cell_type": "code",
   "execution_count": 50,
   "metadata": {},
   "outputs": [
    {
     "name": "stdout",
     "output_type": "stream",
     "text": [
      "2 * 1 = 2\n",
      "2 * 2 = 4\n",
      "2 * 3 = 6\n",
      "2 * 4 = 8\n",
      "2 * 5 = 10\n",
      "2 * 6 = 12\n",
      "2 * 7 = 14\n",
      "2 * 8 = 16\n",
      "2 * 9 = 18\n",
      "3 * 1 = 3\n",
      "3 * 2 = 6\n",
      "3 * 3 = 9\n",
      "3 * 4 = 12\n",
      "3 * 5 = 15\n",
      "3 * 6 = 18\n",
      "3 * 7 = 21\n",
      "3 * 8 = 24\n",
      "3 * 9 = 27\n",
      "4 * 1 = 4\n",
      "4 * 2 = 8\n",
      "4 * 3 = 12\n",
      "4 * 4 = 16\n",
      "4 * 5 = 20\n",
      "4 * 6 = 24\n",
      "4 * 7 = 28\n",
      "4 * 8 = 32\n",
      "4 * 9 = 36\n",
      "5 * 1 = 5\n",
      "5 * 2 = 10\n",
      "5 * 3 = 15\n",
      "5 * 4 = 20\n",
      "5 * 5 = 25\n",
      "5 * 6 = 30\n",
      "5 * 7 = 35\n",
      "5 * 8 = 40\n",
      "5 * 9 = 45\n",
      "6 * 1 = 6\n",
      "6 * 2 = 12\n",
      "6 * 3 = 18\n",
      "6 * 4 = 24\n",
      "6 * 5 = 30\n",
      "6 * 6 = 36\n",
      "6 * 7 = 42\n",
      "6 * 8 = 48\n",
      "6 * 9 = 54\n",
      "7 * 1 = 7\n",
      "7 * 2 = 14\n",
      "7 * 3 = 21\n",
      "7 * 4 = 28\n",
      "7 * 5 = 35\n",
      "7 * 6 = 42\n",
      "7 * 7 = 49\n",
      "7 * 8 = 56\n",
      "7 * 9 = 63\n",
      "8 * 1 = 8\n",
      "8 * 2 = 16\n",
      "8 * 3 = 24\n",
      "8 * 4 = 32\n",
      "8 * 5 = 40\n",
      "8 * 6 = 48\n",
      "8 * 7 = 56\n",
      "8 * 8 = 64\n",
      "8 * 9 = 72\n",
      "9 * 1 = 9\n",
      "9 * 2 = 18\n",
      "9 * 3 = 27\n",
      "9 * 4 = 36\n",
      "9 * 5 = 45\n",
      "9 * 6 = 54\n",
      "9 * 7 = 63\n",
      "9 * 8 = 72\n",
      "9 * 9 = 81\n"
     ]
    }
   ],
   "source": [
    "for i in range(2,10):\n",
    "    for j in range(1,10):\n",
    "        print('{} * {} = {}'.format(i,j,i*j))"
   ]
  },
  {
   "cell_type": "code",
   "execution_count": 52,
   "metadata": {},
   "outputs": [
    {
     "data": {
      "text/plain": [
       "[1, 3, 5, 7, 9, 11, 13, 15, 17, 19]"
      ]
     },
     "execution_count": 52,
     "metadata": {},
     "output_type": "execute_result"
    }
   ],
   "source": [
    "list(range(1,20,2))"
   ]
  },
  {
   "cell_type": "code",
   "execution_count": 54,
   "metadata": {},
   "outputs": [
    {
     "name": "stdout",
     "output_type": "stream",
     "text": [
      "5086 635.75\n"
     ]
    }
   ],
   "source": [
    "# sum, avg\n",
    "\n",
    "for i in a:\n",
    "    sum +=i\n",
    "    \n",
    "print(sum, sum/len(a))"
   ]
  },
  {
   "cell_type": "code",
   "execution_count": null,
   "metadata": {},
   "outputs": [],
   "source": []
  }
 ],
 "metadata": {
  "kernelspec": {
   "display_name": "Python 3",
   "language": "python",
   "name": "python3"
  },
  "language_info": {
   "codemirror_mode": {
    "name": "ipython",
    "version": 3
   },
   "file_extension": ".py",
   "mimetype": "text/x-python",
   "name": "python",
   "nbconvert_exporter": "python",
   "pygments_lexer": "ipython3",
   "version": "3.7.4"
  }
 },
 "nbformat": 4,
 "nbformat_minor": 2
}
