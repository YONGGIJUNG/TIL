{
 "cells": [
  {
   "cell_type": "code",
   "execution_count": 10,
   "metadata": {},
   "outputs": [],
   "source": [
    "a = 3\n",
    "b = 8"
   ]
  },
  {
   "cell_type": "code",
   "execution_count": 7,
   "metadata": {},
   "outputs": [
    {
     "name": "stdout",
     "output_type": "stream",
     "text": [
      "5 미만\n"
     ]
    }
   ],
   "source": [
    "if a < 5:\n",
    "    print('5 미만')\n",
    "else:\n",
    "    print('5 이상')"
   ]
  },
  {
   "cell_type": "code",
   "execution_count": 13,
   "metadata": {},
   "outputs": [
    {
     "name": "stdout",
     "output_type": "stream",
     "text": [
      "and\n"
     ]
    }
   ],
   "source": [
    "if a == 3 and (b !=9 or c < 10):\n",
    "    print('and')"
   ]
  },
  {
   "cell_type": "code",
   "execution_count": 14,
   "metadata": {},
   "outputs": [
    {
     "name": "stdout",
     "output_type": "stream",
     "text": [
      "a>3\n"
     ]
    }
   ],
   "source": [
    "if not a < 3:\n",
    "    print('a>3')"
   ]
  },
  {
   "cell_type": "code",
   "execution_count": 18,
   "metadata": {},
   "outputs": [
    {
     "name": "stdout",
     "output_type": "stream",
     "text": [
      "홀수:1\n"
     ]
    }
   ],
   "source": [
    "if a % 2 ==0:\n",
    "    print('짝수:{}'.format(a%2))\n",
    "else:\n",
    "    print('홀수:{}'.format(a%2))"
   ]
  },
  {
   "cell_type": "code",
   "execution_count": 19,
   "metadata": {},
   "outputs": [
    {
     "name": "stdout",
     "output_type": "stream",
     "text": [
      "3의배수:0\n"
     ]
    }
   ],
   "source": [
    "if a % 3 ==0:\n",
    "    print('3의배수:{}'.format(a%3))\n",
    "elif a %3 ==1:\n",
    "    print('나머지1:{}'.format(a%3))\n",
    "else:\n",
    "    print('나머지2:{}'.format(a%3))"
   ]
  },
  {
   "cell_type": "code",
   "execution_count": null,
   "metadata": {},
   "outputs": [],
   "source": [
    "# 중첩 if \n",
    "if a == 10:\n",
    "    if b == 8:\n",
    "        if c ==10:\n",
    "            print('aaa')\n",
    "        else:\n",
    "            print('bbb')"
   ]
  }
 ],
 "metadata": {
  "kernelspec": {
   "display_name": "Python 3",
   "language": "python",
   "name": "python3"
  },
  "language_info": {
   "codemirror_mode": {
    "name": "ipython",
    "version": 3
   },
   "file_extension": ".py",
   "mimetype": "text/x-python",
   "name": "python",
   "nbconvert_exporter": "python",
   "pygments_lexer": "ipython3",
   "version": "3.7.4"
  }
 },
 "nbformat": 4,
 "nbformat_minor": 2
}
