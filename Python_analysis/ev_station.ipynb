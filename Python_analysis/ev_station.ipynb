{
 "cells": [
  {
   "cell_type": "code",
   "execution_count": 38,
   "metadata": {},
   "outputs": [],
   "source": [
    "import pandas as pd\n",
    "import numpy as np\n",
    "import scipy"
   ]
  },
  {
   "cell_type": "code",
   "execution_count": 2,
   "metadata": {},
   "outputs": [],
   "source": [
    "df = pd.read_excel('../data/ev_station.xlsx')"
   ]
  },
  {
   "cell_type": "code",
   "execution_count": 3,
   "metadata": {},
   "outputs": [
    {
     "data": {
      "text/html": [
       "<div>\n",
       "<style scoped>\n",
       "    .dataframe tbody tr th:only-of-type {\n",
       "        vertical-align: middle;\n",
       "    }\n",
       "\n",
       "    .dataframe tbody tr th {\n",
       "        vertical-align: top;\n",
       "    }\n",
       "\n",
       "    .dataframe thead th {\n",
       "        text-align: right;\n",
       "    }\n",
       "</style>\n",
       "<table border=\"1\" class=\"dataframe\">\n",
       "  <thead>\n",
       "    <tr style=\"text-align: right;\">\n",
       "      <th></th>\n",
       "      <th>area</th>\n",
       "      <th>city</th>\n",
       "      <th>2017-01-01 00:00:00</th>\n",
       "      <th>2017-02-01 00:00:00</th>\n",
       "      <th>2017-03-01 00:00:00</th>\n",
       "      <th>2017-04-01 00:00:00</th>\n",
       "      <th>2017-05-01 00:00:00</th>\n",
       "      <th>2017-06-01 00:00:00</th>\n",
       "      <th>2017-07-01 00:00:00</th>\n",
       "      <th>2017-08-01 00:00:00</th>\n",
       "      <th>2017-09-01 00:00:00</th>\n",
       "    </tr>\n",
       "  </thead>\n",
       "  <tbody>\n",
       "    <tr>\n",
       "      <td>0</td>\n",
       "      <td>bejing</td>\n",
       "      <td>chaoyang</td>\n",
       "      <td>2</td>\n",
       "      <td>23</td>\n",
       "      <td>44</td>\n",
       "      <td>35</td>\n",
       "      <td>26</td>\n",
       "      <td>55</td>\n",
       "      <td>65</td>\n",
       "      <td>76</td>\n",
       "      <td>55</td>\n",
       "    </tr>\n",
       "    <tr>\n",
       "      <td>1</td>\n",
       "      <td>guizhou</td>\n",
       "      <td>guiyang</td>\n",
       "      <td>12</td>\n",
       "      <td>23</td>\n",
       "      <td>34</td>\n",
       "      <td>35</td>\n",
       "      <td>46</td>\n",
       "      <td>57</td>\n",
       "      <td>65</td>\n",
       "      <td>45</td>\n",
       "      <td>36</td>\n",
       "    </tr>\n",
       "  </tbody>\n",
       "</table>\n",
       "</div>"
      ],
      "text/plain": [
       "      area      city  2017-01-01 00:00:00  2017-02-01 00:00:00  \\\n",
       "0   bejing  chaoyang                    2                   23   \n",
       "1  guizhou   guiyang                   12                   23   \n",
       "\n",
       "   2017-03-01 00:00:00  2017-04-01 00:00:00  2017-05-01 00:00:00  \\\n",
       "0                   44                   35                   26   \n",
       "1                   34                   35                   46   \n",
       "\n",
       "   2017-06-01 00:00:00  2017-07-01 00:00:00  2017-08-01 00:00:00  \\\n",
       "0                   55                   65                   76   \n",
       "1                   57                   65                   45   \n",
       "\n",
       "   2017-09-01 00:00:00  \n",
       "0                   55  \n",
       "1                   36  "
      ]
     },
     "execution_count": 3,
     "metadata": {},
     "output_type": "execute_result"
    }
   ],
   "source": [
    "df.head()"
   ]
  },
  {
   "cell_type": "code",
   "execution_count": 9,
   "metadata": {},
   "outputs": [
    {
     "data": {
      "text/plain": [
       "0  area                     bejing\n",
       "   city                   chaoyang\n",
       "   2017-01-01 00:00:00           2\n",
       "   2017-02-01 00:00:00          23\n",
       "   2017-03-01 00:00:00          44\n",
       "   2017-04-01 00:00:00          35\n",
       "   2017-05-01 00:00:00          26\n",
       "   2017-06-01 00:00:00          55\n",
       "   2017-07-01 00:00:00          65\n",
       "   2017-08-01 00:00:00          76\n",
       "   2017-09-01 00:00:00          55\n",
       "1  area                    guizhou\n",
       "   city                    guiyang\n",
       "   2017-01-01 00:00:00          12\n",
       "   2017-02-01 00:00:00          23\n",
       "   2017-03-01 00:00:00          34\n",
       "   2017-04-01 00:00:00          35\n",
       "   2017-05-01 00:00:00          46\n",
       "   2017-06-01 00:00:00          57\n",
       "   2017-07-01 00:00:00          65\n",
       "   2017-08-01 00:00:00          45\n",
       "   2017-09-01 00:00:00          36\n",
       "dtype: object"
      ]
     },
     "execution_count": 9,
     "metadata": {},
     "output_type": "execute_result"
    }
   ],
   "source": [
    "df.stack()"
   ]
  },
  {
   "cell_type": "code",
   "execution_count": 11,
   "metadata": {
    "scrolled": true
   },
   "outputs": [
    {
     "data": {
      "text/plain": [
       "array(['area', 'city', datetime.datetime(2017, 1, 1, 0, 0),\n",
       "       datetime.datetime(2017, 2, 1, 0, 0),\n",
       "       datetime.datetime(2017, 3, 1, 0, 0),\n",
       "       datetime.datetime(2017, 4, 1, 0, 0),\n",
       "       datetime.datetime(2017, 5, 1, 0, 0),\n",
       "       datetime.datetime(2017, 6, 1, 0, 0),\n",
       "       datetime.datetime(2017, 7, 1, 0, 0),\n",
       "       datetime.datetime(2017, 8, 1, 0, 0),\n",
       "       datetime.datetime(2017, 9, 1, 0, 0)], dtype=object)"
      ]
     },
     "execution_count": 11,
     "metadata": {},
     "output_type": "execute_result"
    }
   ],
   "source": [
    "df.columns.values"
   ]
  },
  {
   "cell_type": "code",
   "execution_count": 12,
   "metadata": {},
   "outputs": [
    {
     "name": "stdout",
     "output_type": "stream",
     "text": [
      "<class 'pandas.core.frame.DataFrame'>\n",
      "RangeIndex: 2 entries, 0 to 1\n",
      "Data columns (total 11 columns):\n",
      "area                   2 non-null object\n",
      "city                   2 non-null object\n",
      "2017-01-01 00:00:00    2 non-null int64\n",
      "2017-02-01 00:00:00    2 non-null int64\n",
      "2017-03-01 00:00:00    2 non-null int64\n",
      "2017-04-01 00:00:00    2 non-null int64\n",
      "2017-05-01 00:00:00    2 non-null int64\n",
      "2017-06-01 00:00:00    2 non-null int64\n",
      "2017-07-01 00:00:00    2 non-null int64\n",
      "2017-08-01 00:00:00    2 non-null int64\n",
      "2017-09-01 00:00:00    2 non-null int64\n",
      "dtypes: int64(9), object(2)\n",
      "memory usage: 304.0+ bytes\n"
     ]
    }
   ],
   "source": [
    "df.info()"
   ]
  },
  {
   "cell_type": "code",
   "execution_count": 23,
   "metadata": {},
   "outputs": [
    {
     "data": {
      "text/plain": [
       "Index([             'area',              'city', 2017-01-01 00:00:00,\n",
       "       2017-02-01 00:00:00, 2017-03-01 00:00:00, 2017-04-01 00:00:00,\n",
       "       2017-05-01 00:00:00, 2017-06-01 00:00:00, 2017-07-01 00:00:00,\n",
       "       2017-08-01 00:00:00, 2017-09-01 00:00:00],\n",
       "      dtype='object')"
      ]
     },
     "execution_count": 23,
     "metadata": {},
     "output_type": "execute_result"
    }
   ],
   "source": [
    "df.columns"
   ]
  },
  {
   "cell_type": "code",
   "execution_count": 28,
   "metadata": {},
   "outputs": [],
   "source": [
    "cols = df.columns\n",
    "cols_fnl = cols.drop(['area','city'])"
   ]
  },
  {
   "cell_type": "code",
   "execution_count": 37,
   "metadata": {},
   "outputs": [
    {
     "data": {
      "text/plain": [
       "Index([2017-01-01 00:00:00, 2017-02-01 00:00:00, 2017-03-01 00:00:00,\n",
       "       2017-04-01 00:00:00, 2017-05-01 00:00:00, 2017-06-01 00:00:00,\n",
       "       2017-07-01 00:00:00, 2017-08-01 00:00:00, 2017-09-01 00:00:00],\n",
       "      dtype='object')"
      ]
     },
     "execution_count": 37,
     "metadata": {},
     "output_type": "execute_result"
    }
   ],
   "source": [
    "cols_fnl"
   ]
  },
  {
   "cell_type": "code",
   "execution_count": null,
   "metadata": {},
   "outputs": [],
   "source": [
    "    id_vars=None,\n",
    "    value_vars=None,\n",
    "    var_name=None,\n",
    "    value_name='value',\n",
    "    col_level=None,"
   ]
  },
  {
   "cell_type": "code",
   "execution_count": 57,
   "metadata": {},
   "outputs": [
    {
     "data": {
      "text/plain": [
       "variable  0                    area\n",
       "          1                    area\n",
       "          2                    city\n",
       "          3                    city\n",
       "          4     2017-01-01 00:00:00\n",
       "          5     2017-01-01 00:00:00\n",
       "          6     2017-02-01 00:00:00\n",
       "          7     2017-02-01 00:00:00\n",
       "          8     2017-03-01 00:00:00\n",
       "          9     2017-03-01 00:00:00\n",
       "          10    2017-04-01 00:00:00\n",
       "          11    2017-04-01 00:00:00\n",
       "          12    2017-05-01 00:00:00\n",
       "          13    2017-05-01 00:00:00\n",
       "          14    2017-06-01 00:00:00\n",
       "          15    2017-06-01 00:00:00\n",
       "          16    2017-07-01 00:00:00\n",
       "          17    2017-07-01 00:00:00\n",
       "          18    2017-08-01 00:00:00\n",
       "          19    2017-08-01 00:00:00\n",
       "          20    2017-09-01 00:00:00\n",
       "          21    2017-09-01 00:00:00\n",
       "value     0                  bejing\n",
       "          1                 guizhou\n",
       "          2                chaoyang\n",
       "          3                 guiyang\n",
       "          4                       2\n",
       "          5                      12\n",
       "          6                      23\n",
       "          7                      23\n",
       "          8                      44\n",
       "          9                      34\n",
       "          10                     35\n",
       "          11                     35\n",
       "          12                     26\n",
       "          13                     46\n",
       "          14                     55\n",
       "          15                     57\n",
       "          16                     65\n",
       "          17                     65\n",
       "          18                     76\n",
       "          19                     45\n",
       "          20                     55\n",
       "          21                     36\n",
       "dtype: object"
      ]
     },
     "execution_count": 57,
     "metadata": {},
     "output_type": "execute_result"
    }
   ],
   "source": [
    "# df.pivot(columns='area',index='city',values='2017-01-01 00:00:00')\n",
    "df.melt()"
   ]
  },
  {
   "cell_type": "code",
   "execution_count": 60,
   "metadata": {},
   "outputs": [
    {
     "data": {
      "text/html": [
       "<div>\n",
       "<style scoped>\n",
       "    .dataframe tbody tr th:only-of-type {\n",
       "        vertical-align: middle;\n",
       "    }\n",
       "\n",
       "    .dataframe tbody tr th {\n",
       "        vertical-align: top;\n",
       "    }\n",
       "\n",
       "    .dataframe thead th {\n",
       "        text-align: right;\n",
       "    }\n",
       "</style>\n",
       "<table border=\"1\" class=\"dataframe\">\n",
       "  <thead>\n",
       "    <tr style=\"text-align: right;\">\n",
       "      <th></th>\n",
       "      <th>0</th>\n",
       "      <th>1</th>\n",
       "    </tr>\n",
       "  </thead>\n",
       "  <tbody>\n",
       "    <tr>\n",
       "      <td>area</td>\n",
       "      <td>bejing</td>\n",
       "      <td>guizhou</td>\n",
       "    </tr>\n",
       "    <tr>\n",
       "      <td>city</td>\n",
       "      <td>chaoyang</td>\n",
       "      <td>guiyang</td>\n",
       "    </tr>\n",
       "    <tr>\n",
       "      <td>2017-01-01 00:00:00</td>\n",
       "      <td>2</td>\n",
       "      <td>12</td>\n",
       "    </tr>\n",
       "    <tr>\n",
       "      <td>2017-02-01 00:00:00</td>\n",
       "      <td>23</td>\n",
       "      <td>23</td>\n",
       "    </tr>\n",
       "    <tr>\n",
       "      <td>2017-03-01 00:00:00</td>\n",
       "      <td>44</td>\n",
       "      <td>34</td>\n",
       "    </tr>\n",
       "    <tr>\n",
       "      <td>2017-04-01 00:00:00</td>\n",
       "      <td>35</td>\n",
       "      <td>35</td>\n",
       "    </tr>\n",
       "    <tr>\n",
       "      <td>2017-05-01 00:00:00</td>\n",
       "      <td>26</td>\n",
       "      <td>46</td>\n",
       "    </tr>\n",
       "    <tr>\n",
       "      <td>2017-06-01 00:00:00</td>\n",
       "      <td>55</td>\n",
       "      <td>57</td>\n",
       "    </tr>\n",
       "    <tr>\n",
       "      <td>2017-07-01 00:00:00</td>\n",
       "      <td>65</td>\n",
       "      <td>65</td>\n",
       "    </tr>\n",
       "    <tr>\n",
       "      <td>2017-08-01 00:00:00</td>\n",
       "      <td>76</td>\n",
       "      <td>45</td>\n",
       "    </tr>\n",
       "    <tr>\n",
       "      <td>2017-09-01 00:00:00</td>\n",
       "      <td>55</td>\n",
       "      <td>36</td>\n",
       "    </tr>\n",
       "  </tbody>\n",
       "</table>\n",
       "</div>"
      ],
      "text/plain": [
       "                            0        1\n",
       "area                   bejing  guizhou\n",
       "city                 chaoyang  guiyang\n",
       "2017-01-01 00:00:00         2       12\n",
       "2017-02-01 00:00:00        23       23\n",
       "2017-03-01 00:00:00        44       34\n",
       "2017-04-01 00:00:00        35       35\n",
       "2017-05-01 00:00:00        26       46\n",
       "2017-06-01 00:00:00        55       57\n",
       "2017-07-01 00:00:00        65       65\n",
       "2017-08-01 00:00:00        76       45\n",
       "2017-09-01 00:00:00        55       36"
      ]
     },
     "execution_count": 60,
     "metadata": {},
     "output_type": "execute_result"
    }
   ],
   "source": [
    "df.transpose()"
   ]
  },
  {
   "cell_type": "code",
   "execution_count": 65,
   "metadata": {},
   "outputs": [],
   "source": [
    "df2 =pd.melt(df, id_vars=['area','city'], value_vars=cols_fnl)"
   ]
  },
  {
   "cell_type": "code",
   "execution_count": 69,
   "metadata": {},
   "outputs": [
    {
     "data": {
      "text/html": [
       "<div>\n",
       "<style scoped>\n",
       "    .dataframe tbody tr th:only-of-type {\n",
       "        vertical-align: middle;\n",
       "    }\n",
       "\n",
       "    .dataframe tbody tr th {\n",
       "        vertical-align: top;\n",
       "    }\n",
       "\n",
       "    .dataframe thead th {\n",
       "        text-align: right;\n",
       "    }\n",
       "</style>\n",
       "<table border=\"1\" class=\"dataframe\">\n",
       "  <thead>\n",
       "    <tr style=\"text-align: right;\">\n",
       "      <th></th>\n",
       "      <th>area</th>\n",
       "      <th>city</th>\n",
       "      <th>variable</th>\n",
       "      <th>value</th>\n",
       "    </tr>\n",
       "  </thead>\n",
       "  <tbody>\n",
       "    <tr>\n",
       "      <td>0</td>\n",
       "      <td>bejing</td>\n",
       "      <td>chaoyang</td>\n",
       "      <td>2017-01-01</td>\n",
       "      <td>2</td>\n",
       "    </tr>\n",
       "    <tr>\n",
       "      <td>1</td>\n",
       "      <td>guizhou</td>\n",
       "      <td>guiyang</td>\n",
       "      <td>2017-01-01</td>\n",
       "      <td>12</td>\n",
       "    </tr>\n",
       "    <tr>\n",
       "      <td>2</td>\n",
       "      <td>bejing</td>\n",
       "      <td>chaoyang</td>\n",
       "      <td>2017-02-01</td>\n",
       "      <td>23</td>\n",
       "    </tr>\n",
       "    <tr>\n",
       "      <td>3</td>\n",
       "      <td>guizhou</td>\n",
       "      <td>guiyang</td>\n",
       "      <td>2017-02-01</td>\n",
       "      <td>23</td>\n",
       "    </tr>\n",
       "    <tr>\n",
       "      <td>4</td>\n",
       "      <td>bejing</td>\n",
       "      <td>chaoyang</td>\n",
       "      <td>2017-03-01</td>\n",
       "      <td>44</td>\n",
       "    </tr>\n",
       "  </tbody>\n",
       "</table>\n",
       "</div>"
      ],
      "text/plain": [
       "      area      city   variable  value\n",
       "0   bejing  chaoyang 2017-01-01      2\n",
       "1  guizhou   guiyang 2017-01-01     12\n",
       "2   bejing  chaoyang 2017-02-01     23\n",
       "3  guizhou   guiyang 2017-02-01     23\n",
       "4   bejing  chaoyang 2017-03-01     44"
      ]
     },
     "execution_count": 69,
     "metadata": {},
     "output_type": "execute_result"
    }
   ],
   "source": [
    "df2.head()"
   ]
  },
  {
   "cell_type": "code",
   "execution_count": 70,
   "metadata": {},
   "outputs": [],
   "source": [
    "df2.columns=['area','city','pdate','cnt']"
   ]
  },
  {
   "cell_type": "code",
   "execution_count": 71,
   "metadata": {},
   "outputs": [
    {
     "data": {
      "text/html": [
       "<div>\n",
       "<style scoped>\n",
       "    .dataframe tbody tr th:only-of-type {\n",
       "        vertical-align: middle;\n",
       "    }\n",
       "\n",
       "    .dataframe tbody tr th {\n",
       "        vertical-align: top;\n",
       "    }\n",
       "\n",
       "    .dataframe thead th {\n",
       "        text-align: right;\n",
       "    }\n",
       "</style>\n",
       "<table border=\"1\" class=\"dataframe\">\n",
       "  <thead>\n",
       "    <tr style=\"text-align: right;\">\n",
       "      <th></th>\n",
       "      <th>area</th>\n",
       "      <th>city</th>\n",
       "      <th>pdate</th>\n",
       "      <th>cnt</th>\n",
       "    </tr>\n",
       "  </thead>\n",
       "  <tbody>\n",
       "    <tr>\n",
       "      <td>0</td>\n",
       "      <td>bejing</td>\n",
       "      <td>chaoyang</td>\n",
       "      <td>2017-01-01</td>\n",
       "      <td>2</td>\n",
       "    </tr>\n",
       "    <tr>\n",
       "      <td>1</td>\n",
       "      <td>guizhou</td>\n",
       "      <td>guiyang</td>\n",
       "      <td>2017-01-01</td>\n",
       "      <td>12</td>\n",
       "    </tr>\n",
       "    <tr>\n",
       "      <td>2</td>\n",
       "      <td>bejing</td>\n",
       "      <td>chaoyang</td>\n",
       "      <td>2017-02-01</td>\n",
       "      <td>23</td>\n",
       "    </tr>\n",
       "    <tr>\n",
       "      <td>3</td>\n",
       "      <td>guizhou</td>\n",
       "      <td>guiyang</td>\n",
       "      <td>2017-02-01</td>\n",
       "      <td>23</td>\n",
       "    </tr>\n",
       "    <tr>\n",
       "      <td>4</td>\n",
       "      <td>bejing</td>\n",
       "      <td>chaoyang</td>\n",
       "      <td>2017-03-01</td>\n",
       "      <td>44</td>\n",
       "    </tr>\n",
       "  </tbody>\n",
       "</table>\n",
       "</div>"
      ],
      "text/plain": [
       "      area      city      pdate  cnt\n",
       "0   bejing  chaoyang 2017-01-01    2\n",
       "1  guizhou   guiyang 2017-01-01   12\n",
       "2   bejing  chaoyang 2017-02-01   23\n",
       "3  guizhou   guiyang 2017-02-01   23\n",
       "4   bejing  chaoyang 2017-03-01   44"
      ]
     },
     "execution_count": 71,
     "metadata": {},
     "output_type": "execute_result"
    }
   ],
   "source": [
    "df2.head()"
   ]
  },
  {
   "cell_type": "code",
   "execution_count": 72,
   "metadata": {},
   "outputs": [
    {
     "name": "stdout",
     "output_type": "stream",
     "text": [
      "<class 'pandas.core.frame.DataFrame'>\n",
      "RangeIndex: 18 entries, 0 to 17\n",
      "Data columns (total 4 columns):\n",
      "area     18 non-null object\n",
      "city     18 non-null object\n",
      "pdate    18 non-null datetime64[ns]\n",
      "cnt      18 non-null int64\n",
      "dtypes: datetime64[ns](1), int64(1), object(2)\n",
      "memory usage: 704.0+ bytes\n"
     ]
    }
   ],
   "source": [
    "df2.info()"
   ]
  },
  {
   "cell_type": "code",
   "execution_count": 76,
   "metadata": {},
   "outputs": [],
   "source": [
    "df2.set_index('pdate', inplace=True)\n",
    "\n",
    "df2['month']=df2.index.month\n",
    "\n",
    "df2['year']=df2.index.year"
   ]
  },
  {
   "cell_type": "code",
   "execution_count": 80,
   "metadata": {},
   "outputs": [
    {
     "data": {
      "text/html": [
       "<div>\n",
       "<style scoped>\n",
       "    .dataframe tbody tr th:only-of-type {\n",
       "        vertical-align: middle;\n",
       "    }\n",
       "\n",
       "    .dataframe tbody tr th {\n",
       "        vertical-align: top;\n",
       "    }\n",
       "\n",
       "    .dataframe thead th {\n",
       "        text-align: right;\n",
       "    }\n",
       "</style>\n",
       "<table border=\"1\" class=\"dataframe\">\n",
       "  <thead>\n",
       "    <tr style=\"text-align: right;\">\n",
       "      <th></th>\n",
       "      <th>area</th>\n",
       "      <th>city</th>\n",
       "      <th>cnt</th>\n",
       "      <th>month</th>\n",
       "      <th>year</th>\n",
       "    </tr>\n",
       "    <tr>\n",
       "      <th>pdate</th>\n",
       "      <th></th>\n",
       "      <th></th>\n",
       "      <th></th>\n",
       "      <th></th>\n",
       "      <th></th>\n",
       "    </tr>\n",
       "  </thead>\n",
       "  <tbody>\n",
       "    <tr>\n",
       "      <td>2017-01-01</td>\n",
       "      <td>bejing</td>\n",
       "      <td>chaoyang</td>\n",
       "      <td>2</td>\n",
       "      <td>1</td>\n",
       "      <td>2017</td>\n",
       "    </tr>\n",
       "    <tr>\n",
       "      <td>2017-01-01</td>\n",
       "      <td>guizhou</td>\n",
       "      <td>guiyang</td>\n",
       "      <td>12</td>\n",
       "      <td>1</td>\n",
       "      <td>2017</td>\n",
       "    </tr>\n",
       "    <tr>\n",
       "      <td>2017-02-01</td>\n",
       "      <td>bejing</td>\n",
       "      <td>chaoyang</td>\n",
       "      <td>23</td>\n",
       "      <td>2</td>\n",
       "      <td>2017</td>\n",
       "    </tr>\n",
       "    <tr>\n",
       "      <td>2017-02-01</td>\n",
       "      <td>guizhou</td>\n",
       "      <td>guiyang</td>\n",
       "      <td>23</td>\n",
       "      <td>2</td>\n",
       "      <td>2017</td>\n",
       "    </tr>\n",
       "    <tr>\n",
       "      <td>2017-03-01</td>\n",
       "      <td>bejing</td>\n",
       "      <td>chaoyang</td>\n",
       "      <td>44</td>\n",
       "      <td>3</td>\n",
       "      <td>2017</td>\n",
       "    </tr>\n",
       "  </tbody>\n",
       "</table>\n",
       "</div>"
      ],
      "text/plain": [
       "               area      city  cnt  month  year\n",
       "pdate                                          \n",
       "2017-01-01   bejing  chaoyang    2      1  2017\n",
       "2017-01-01  guizhou   guiyang   12      1  2017\n",
       "2017-02-01   bejing  chaoyang   23      2  2017\n",
       "2017-02-01  guizhou   guiyang   23      2  2017\n",
       "2017-03-01   bejing  chaoyang   44      3  2017"
      ]
     },
     "execution_count": 80,
     "metadata": {},
     "output_type": "execute_result"
    }
   ],
   "source": [
    "df2.head()"
   ]
  },
  {
   "cell_type": "code",
   "execution_count": 82,
   "metadata": {},
   "outputs": [
    {
     "data": {
      "text/html": [
       "<div>\n",
       "<style scoped>\n",
       "    .dataframe tbody tr th:only-of-type {\n",
       "        vertical-align: middle;\n",
       "    }\n",
       "\n",
       "    .dataframe tbody tr th {\n",
       "        vertical-align: top;\n",
       "    }\n",
       "\n",
       "    .dataframe thead th {\n",
       "        text-align: right;\n",
       "    }\n",
       "</style>\n",
       "<table border=\"1\" class=\"dataframe\">\n",
       "  <thead>\n",
       "    <tr style=\"text-align: right;\">\n",
       "      <th></th>\n",
       "      <th></th>\n",
       "      <th>cnt</th>\n",
       "    </tr>\n",
       "    <tr>\n",
       "      <th>year</th>\n",
       "      <th>month</th>\n",
       "      <th></th>\n",
       "    </tr>\n",
       "  </thead>\n",
       "  <tbody>\n",
       "    <tr>\n",
       "      <td rowspan=\"9\" valign=\"top\">2017</td>\n",
       "      <td>1</td>\n",
       "      <td>7.0</td>\n",
       "    </tr>\n",
       "    <tr>\n",
       "      <td>2</td>\n",
       "      <td>23.0</td>\n",
       "    </tr>\n",
       "    <tr>\n",
       "      <td>3</td>\n",
       "      <td>39.0</td>\n",
       "    </tr>\n",
       "    <tr>\n",
       "      <td>4</td>\n",
       "      <td>35.0</td>\n",
       "    </tr>\n",
       "    <tr>\n",
       "      <td>5</td>\n",
       "      <td>36.0</td>\n",
       "    </tr>\n",
       "    <tr>\n",
       "      <td>6</td>\n",
       "      <td>56.0</td>\n",
       "    </tr>\n",
       "    <tr>\n",
       "      <td>7</td>\n",
       "      <td>65.0</td>\n",
       "    </tr>\n",
       "    <tr>\n",
       "      <td>8</td>\n",
       "      <td>60.5</td>\n",
       "    </tr>\n",
       "    <tr>\n",
       "      <td>9</td>\n",
       "      <td>45.5</td>\n",
       "    </tr>\n",
       "  </tbody>\n",
       "</table>\n",
       "</div>"
      ],
      "text/plain": [
       "             cnt\n",
       "year month      \n",
       "2017 1       7.0\n",
       "     2      23.0\n",
       "     3      39.0\n",
       "     4      35.0\n",
       "     5      36.0\n",
       "     6      56.0\n",
       "     7      65.0\n",
       "     8      60.5\n",
       "     9      45.5"
      ]
     },
     "execution_count": 82,
     "metadata": {},
     "output_type": "execute_result"
    }
   ],
   "source": [
    "df2.pivot_table(index=['year','month'],values='cnt')"
   ]
  },
  {
   "cell_type": "code",
   "execution_count": null,
   "metadata": {},
   "outputs": [],
   "source": []
  },
  {
   "cell_type": "code",
   "execution_count": null,
   "metadata": {},
   "outputs": [],
   "source": []
  },
  {
   "cell_type": "code",
   "execution_count": null,
   "metadata": {},
   "outputs": [],
   "source": []
  },
  {
   "cell_type": "code",
   "execution_count": null,
   "metadata": {},
   "outputs": [],
   "source": []
  },
  {
   "cell_type": "code",
   "execution_count": null,
   "metadata": {},
   "outputs": [],
   "source": []
  },
  {
   "cell_type": "code",
   "execution_count": null,
   "metadata": {},
   "outputs": [],
   "source": []
  }
 ],
 "metadata": {
  "kernelspec": {
   "display_name": "Python 3",
   "language": "python",
   "name": "python3"
  },
  "language_info": {
   "codemirror_mode": {
    "name": "ipython",
    "version": 3
   },
   "file_extension": ".py",
   "mimetype": "text/x-python",
   "name": "python",
   "nbconvert_exporter": "python",
   "pygments_lexer": "ipython3",
   "version": "3.7.4"
  }
 },
 "nbformat": 4,
 "nbformat_minor": 2
}
