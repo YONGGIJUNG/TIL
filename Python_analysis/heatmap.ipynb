{
 "cells": [
  {
   "cell_type": "markdown",
   "metadata": {},
   "source": [
    " - 실무적인 EDA 탐색적 분석에서는 여러 변수들의 조합에 대한 동일 패턴 반복 검토 흔함\n",
    "\n",
    " - Heatmap 은 EDA 탐색적 분석에서 반복적 사용하기 좋음 = 매우 유용\n",
    "\n",
    " - matplotlib.scatter() 사용하는 방식 Vs. seaborn.heatmap() 선택?"
   ]
  },
  {
   "cell_type": "code",
   "execution_count": null,
   "metadata": {},
   "outputs": [],
   "source": [
    "import numpy as np\n",
    "import matplotlib.pyplot as plt\n",
    "import pandas as pd\n",
    "from numpy.polynomial.polynomial import polyfit\n",
    "import matplotlib.style as style \n",
    "from IPython.display import Image\n",
    "\n",
    "import warnings\n",
    "warnings.filterwarnings('ignore')\n"
   ]
  },
  {
   "cell_type": "code",
   "execution_count": null,
   "metadata": {},
   "outputs": [],
   "source": [
    "# dff01 = dfc01[dfc01['sex']=='F'][['age','height','weight','amt_strbk','amt_book']]\n",
    "# dff01.to_csv(dataPath + 'dff01.csv', index=False)\n",
    "# dff01 = pd.read_csv(dataPath + 'dff01.csv')\n",
    "\n",
    "# 블로그로부터 CSV 파일 형식의 데이터 불러오기\n",
    "dff01 = pd.read_csv('http://cfile224.uf.daum.net/attach/992CFF3B5D5CC70C2C63F0')\n",
    "dff01.head()"
   ]
  },
  {
   "cell_type": "code",
   "execution_count": null,
   "metadata": {},
   "outputs": [],
   "source": [
    "# matplotlib scatter 사용\n",
    "\n",
    "plt.scatter(dff01.weight, dff01.height)\n",
    "plt.xlabel('WEIGHT')\n",
    "plt.ylabel('HEIGHT')\n",
    "plt.show()\n",
    "\n",
    "plt.scatter(dff01.amt_strbk, dff01.amt_book)\n",
    "plt.xlabel('STARBUCKS')\n",
    "plt.ylabel('BOOK')\n",
    "plt.show()"
   ]
  },
  {
   "cell_type": "code",
   "execution_count": null,
   "metadata": {},
   "outputs": [],
   "source": [
    "dff01['rto_strbk'] = dff01.amt_strbk / (dff01.amt_strbk + dff01.amt_book + 0.001)\n",
    "plt.hist(dff01.rto_strbk, bins=50)\n",
    "plt.title('STARBUCKS / (STARBUCKS + BOOK) = RATIO')\n",
    "plt.show()\n",
    "\n",
    "colors1 = ['red' if x>=0.99 else 'blue' for x in dff01.rto_strbk]\n",
    "plt.scatter(dff01.weight, dff01.height,\n",
    "        alpha=0.1, color=colors1)\n",
    "plt.xlabel('WEIGHT')\n",
    "plt.ylabel('HEIGHT')\n",
    "plt.title('RED: STARBUCKS')\n",
    "plt.show()"
   ]
  },
  {
   "cell_type": "code",
   "execution_count": null,
   "metadata": {},
   "outputs": [],
   "source": [
    "dfc02z = dff01[['rto_strbk', 'height', 'weight']].groupby(['height', 'weight']).mean().reset_index()\n",
    "dfc02z1 = dff01[['rto_strbk', 'height', 'weight']].groupby(['height', 'weight']).count().reset_index()\n",
    "dfc02z1.columns = ['height', 'weight', 'cnt_cust']\n",
    "dfc02z2 = dfc02z.merge(dfc02z1, how='left', on=['height', 'weight'])\n",
    "print(dfc02z2.head(3))\n",
    "\n",
    "colors1 = [(x, 0, 1-x) for x in dfc02z2.rto_strbk]\n",
    "\n",
    "# ncust = mnmx_scl2(dfc02z2.cnt_cust)\n",
    "# plt.hist(dfc02z2.cnt_cust, bins=50)\n",
    "# plt.show()\n",
    "\n",
    "dfc02z2 = dfc02z2[dfc02z2.cnt_cust>=5]\n",
    "# ncust = mnmx_scl2(dfc02z2.cnt_cust)\n",
    "# plt.hist(dfc02z2.cnt_cust, bins=50)\n",
    "# plt.show()\n",
    "\n",
    "plt.scatter(dfc02z2.weight, dfc02z2.height, \n",
    "            color=colors1, marker='s')\n",
    "plt.legend(['cust'])\n",
    "plt.xlabel('weight')\n",
    "plt.ylabel('height')\n",
    "plt.suptitle('LADY, STARBUCKS or BOOK?')\n",
    "plt.title('(red: STARKBUCKS)', size=10, color='r')\n",
    "plt.show()"
   ]
  },
  {
   "cell_type": "code",
   "execution_count": null,
   "metadata": {},
   "outputs": [],
   "source": [
    "dfc02z21 = dfc02z2\n",
    "dfc02z21.drop(['cnt_cust'], axis=1)\n",
    "dfc02z21.head()"
   ]
  },
  {
   "cell_type": "code",
   "execution_count": null,
   "metadata": {},
   "outputs": [],
   "source": [
    "# seaborn의 heatmap 기능을 사용해본다면?\n",
    "import seaborn as sns\n",
    "\n",
    "# 피보팅을!\n",
    "dfc02z21 = dfc02z21.pivot(index='height', columns='weight',\n",
    "                         values='rto_strbk')\n",
    "\n",
    "sns.heatmap(dfc02z21, \n",
    "            cmap='RdBu',\n",
    "            square=True)\n",
    "plt.show()"
   ]
  },
  {
   "cell_type": "code",
   "execution_count": null,
   "metadata": {},
   "outputs": [],
   "source": [
    "print('피보팅된 테이블\\n--------------')\n",
    "dfc02z21[[45,46,47,48,49,50]].head()"
   ]
  },
  {
   "cell_type": "code",
   "execution_count": null,
   "metadata": {},
   "outputs": [],
   "source": [
    "import seaborn as sns\n",
    "\n",
    "dfc02z21 = dfc02z2.pivot(index='height', columns='weight', \n",
    "                         values='rto_strbk')\n",
    "\n",
    "# Y축 값을 재정렬 (큰 값에서 작은 값의 순서로)\n",
    "dfc02z21 = dfc02z21.sort_values('height', ascending=False)\n",
    "\n",
    "sns.heatmap(dfc02z21, \n",
    "            cmap='RdBu_r',  # 컬러맵을 반대로\n",
    "            square=True, linewidth=0.1)\n",
    "plt.show()\n"
   ]
  },
  {
   "cell_type": "code",
   "execution_count": null,
   "metadata": {},
   "outputs": [],
   "source": [
    "# 색상을 바꿔 보면 ?\n",
    "sns.heatmap(dfc02z21, \n",
    "            cmap=\"YlGnBu\",\n",
    "            square=True)\n",
    "plt.show()"
   ]
  },
  {
   "cell_type": "code",
   "execution_count": null,
   "metadata": {},
   "outputs": [],
   "source": [
    "# scatter plot 에서 cell의 크기로 사람수를 표시해보면?\n",
    "plt.scatter(dfc02z2.weight, dfc02z2.height, \n",
    "            s=dfc02z2.cnt_cust, color=colors1, marker='s')\n",
    "plt.legend(['cust'])\n",
    "plt.xlabel('weight')\n",
    "plt.ylabel('height')\n",
    "plt.suptitle('LADY, STARBUCKS or BOOK?')\n",
    "plt.title('(red: STARKBUCKS)', size=10, color='r')\n",
    "plt.show()"
   ]
  }
 ],
 "metadata": {
  "kernelspec": {
   "display_name": "Python 3",
   "language": "python",
   "name": "python3"
  },
  "language_info": {
   "codemirror_mode": {
    "name": "ipython",
    "version": 3
   },
   "file_extension": ".py",
   "mimetype": "text/x-python",
   "name": "python",
   "nbconvert_exporter": "python",
   "pygments_lexer": "ipython3",
   "version": "3.7.4"
  }
 },
 "nbformat": 4,
 "nbformat_minor": 2
}
