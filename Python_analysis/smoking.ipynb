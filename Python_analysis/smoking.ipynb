{
 "cells": [
  {
   "cell_type": "code",
   "execution_count": null,
   "metadata": {},
   "outputs": [],
   "source": [
    "dftmp = dfi01[['smoker','age']]\n",
    "dftmp.head()"
   ]
  },
  {
   "cell_type": "code",
   "execution_count": null,
   "metadata": {},
   "outputs": [],
   "source": [
    "dftmp.groupby('smoker').mean().reset_index() # count, mean, max, min, median"
   ]
  },
  {
   "cell_type": "code",
   "execution_count": null,
   "metadata": {},
   "outputs": [],
   "source": [
    "dfs = dfi01[['children', 'charges']].groupby('children').mean().reset_index() \n",
    "dfs.columns = ['children', 'charges_mean']\n",
    "print(dfs.head())\n",
    "​\n",
    "dfs1 = dfi01[['children', 'charges']].groupby('children').median().reset_index() \n",
    "dfs1.columns = ['children', 'charges_med']\n",
    "print(dfs1.head())\n",
    "# count, mean, max, min, median"
   ]
  },
  {
   "cell_type": "code",
   "execution_count": null,
   "metadata": {},
   "outputs": [],
   "source": [
    "# [실습] 자녀수별 보험료 막대그래프!\n",
    "plt.bar(dfs.children, dfs.charges, color='red', alpha=0.5)\n",
    "plt.bar(dfs.children, dfs1.charges, color='blue', alpha=0.5)\n",
    "plt.show()"
   ]
  },
  {
   "cell_type": "code",
   "execution_count": null,
   "metadata": {},
   "outputs": [],
   "source": [
    "# [실습] dfs, dfs1 두개를 한테이블로 보여주세요\n",
    "\n",
    "dfs.merge(dfs1, on='children')"
   ]
  },
  {
   "cell_type": "code",
   "execution_count": null,
   "metadata": {},
   "outputs": [],
   "source": []
  },
  {
   "cell_type": "code",
   "execution_count": null,
   "metadata": {},
   "outputs": [],
   "source": []
  },
  {
   "cell_type": "code",
   "execution_count": null,
   "metadata": {},
   "outputs": [],
   "source": []
  },
  {
   "cell_type": "code",
   "execution_count": null,
   "metadata": {},
   "outputs": [],
   "source": []
  },
  {
   "cell_type": "code",
   "execution_count": null,
   "metadata": {},
   "outputs": [],
   "source": []
  }
 ],
 "metadata": {
  "kernelspec": {
   "display_name": "Python 3",
   "language": "python",
   "name": "python3"
  },
  "language_info": {
   "codemirror_mode": {
    "name": "ipython",
    "version": 3
   },
   "file_extension": ".py",
   "mimetype": "text/x-python",
   "name": "python",
   "nbconvert_exporter": "python",
   "pygments_lexer": "ipython3",
   "version": "3.7.4"
  }
 },
 "nbformat": 4,
 "nbformat_minor": 2
}
